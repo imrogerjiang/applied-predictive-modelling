{
 "cells": [
  {
   "cell_type": "markdown",
   "id": "1553020c",
   "metadata": {},
   "source": [
    "## 6.2. \n",
    "\n",
    "**Developing a model to predict permeability (see Sect. 1.4) could save significant resources for a pharmaceutical company, while at the same time more rapidly identifying molecules that have a sufficient permeability to become a drug:**\n",
    "\n",
    "**(a) Load the data.**\n",
    "\n",
    "**(b) The fingerprint predictors indicate the presence or absence of substructures of a molecule and are often sparse meaning that relatively few of the molecules contain each substructure. Filter out the predictors that have low frequencies using the nearZeroVar function from the caret package.**\n",
    "\n",
    "**How many predictors are left for modeling?**\n",
    "\n",
    "Freq Predictors\\\n",
    "0     38\\\n",
    "1    296\\\n",
    "2    151\\\n",
    "3     59\\\n",
    "4     51\\\n",
    "5     48\\\n",
    "6     30\\\n",
    "7     21\\\n",
    "8     25\\\n",
    "9     19\\\n",
    "Over 485 predictors have fewer than 3 active flags, these predictors are removed.\n",
    "\n",
    "**(c) Split the data into a training and a test set, pre-process the data, and tune a PLS model. How many latent variables are optimal and what is the corresponding resampled estimate of R2?**\n",
    "\n",
    "**(d) Predict the response for the test set. What is the test set estimate of R2?**\n",
    "\n",
    "**(e) Try building other models discussed in this chapter. Do any have better predictive performance?**\n",
    "\n",
    "**(f) Would you recommend any of your models to replace the permeability\n",
    "laboratory experiment?**"
   ]
  },
  {
   "cell_type": "code",
   "execution_count": 1,
   "id": "fb1703d4",
   "metadata": {},
   "outputs": [],
   "source": [
    "import numpy as np\n",
    "import pandas as pd\n",
    "from matplotlib import pyplot as plt\n",
    "from sklearn.decomposition import PCA\n",
    "from sklearn.cross_decomposition import PLSRegression\n",
    "from sklearn.model_selection import train_test_split\n",
    "from sklearn import linear_model\n",
    "from scipy.stats import boxcox\n",
    "\n",
    "from linearmodels import "
   ]
  },
  {
   "cell_type": "code",
   "execution_count": 88,
   "id": "2f0a1d5d",
   "metadata": {},
   "outputs": [],
   "source": [
    "fingerprints = pd.read_csv(\"data/fingerprints.csv\", index_col=\"ID\", header=0)\n",
    "permeability = pd.read_csv(\"data/permeability.csv\", index_col=\"ID\", header=0)\n",
    "\n",
    "data = pd.concat([fingerprints, permeability], axis=\"columns\")"
   ]
  },
  {
   "cell_type": "code",
   "execution_count": 11,
   "id": "b711e582",
   "metadata": {},
   "outputs": [],
   "source": [
    "n_zeros = (fingerprints == 0).sum(axis=\"rows\")"
   ]
  },
  {
   "cell_type": "code",
   "execution_count": 69,
   "id": "93575f37",
   "metadata": {
    "scrolled": true
   },
   "outputs": [],
   "source": [
    "aa = n_zeros.apply(lambda x:x if x < 83 else 165-x)"
   ]
  },
  {
   "cell_type": "code",
   "execution_count": 72,
   "id": "c02ce166",
   "metadata": {},
   "outputs": [
    {
     "data": {
      "image/png": "[encoded data removed]",
      "text/plain": [
       "<Figure size 432x288 with 1 Axes>"
      ]
     },
     "metadata": {
      "needs_background": "light"
     },
     "output_type": "display_data"
    }
   ],
   "source": [
    "plt.plot(aa.value_counts().sort_index(ascending=True)[:20])\n",
    "plt.show()"
   ]
  },
  {
   "cell_type": "code",
   "execution_count": 89,
   "id": "8035dee1",
   "metadata": {
    "scrolled": false
   },
   "outputs": [],
   "source": [
    "min_freq = 3\n",
    "max_freq = len(data)-min_freq\n",
    "sparse_vars = list(n_zeros[(n_zeros<min_freq)|(n_zeros>max_freq)].index)\n",
    "non_sparse = data.drop(columns=sparse_vars)"
   ]
  },
  {
   "cell_type": "code",
   "execution_count": 110,
   "id": "0aceb839",
   "metadata": {},
   "outputs": [],
   "source": [
    "seed = 5\n",
    "w_sparse={}\n",
    "n_sparse={}\n",
    "y={}\n",
    "\n",
    "# Setting indexes\n",
    "train_val, test = train_test_split(data, random_state=seed, shuffle=True, test_size=0.2)\n",
    "train, val = train_test_split(data, random_state=seed, shuffle=True, test_size=0.2)\n",
    "train, val, train_val, test = train.index, val.index, train_val.index, test.index\n",
    "\n",
    "# Using indexes to seperate datasets\n",
    "w_ = data.drop(columns=[\"permeability\"])\n",
    "w_sparse[\"train\"] = w_.loc[train, :]\n",
    "w_sparse[\"val\"] = w_.loc[val, :]\n",
    "w_sparse[\"train_val\"] = w_.loc[train_val, :]\n",
    "w_sparse[\"test\"] = w_.loc[test, :]\n",
    "\n",
    "n_ = data.drop(columns=[\"permeability\"] + sparse_vars)\n",
    "n_sparse[\"train\"] = n_.loc[train, :]\n",
    "n_sparse[\"val\"] = n_.loc[val, :]\n",
    "n_sparse[\"train_val\"] = n_.loc[train_val, :]\n",
    "n_sparse[\"test\"] = n_.loc[test, :]\n",
    "\n",
    "y_ = data[\"permeability\"]\n",
    "y[\"train\"] = y_.loc[train]\n",
    "y[\"val\"] = y_.loc[val]\n",
    "y[\"train_val\"] = y_.loc[train_val]\n",
    "y[\"test\"] = y_.loc[test]"
   ]
  },
  {
   "cell_type": "code",
   "execution_count": 118,
   "id": "28c42235",
   "metadata": {},
   "outputs": [],
   "source": [
    "pls_scores = []\n",
    "for i in range(1, len(w_sparse[\"train\"])):\n",
    "    pls = PLSRegression(n_components=i)\n",
    "    pls.fit(X=w_sparse[\"train\"], Y=y[\"train\"])\n",
    "    pls_scores.append(pls.score(X=w_sparse[\"val\"], y=y[\"val\"]))"
   ]
  },
  {
   "cell_type": "code",
   "execution_count": 122,
   "id": "36d3f8dc",
   "metadata": {},
   "outputs": [
    {
     "data": {
      "image/png": "[encoded data removed]",
      "text/plain": [
       "<Figure size 432x288 with 1 Axes>"
      ]
     },
     "metadata": {
      "needs_background": "light"
     },
     "output_type": "display_data"
    }
   ],
   "source": [
    "plt.plot(pls_scores[:10])\n",
    "plt.show()"
   ]
  },
  {
   "cell_type": "code",
   "execution_count": 124,
   "id": "8363ce9a",
   "metadata": {},
   "outputs": [],
   "source": [
    "pls_scores_n = []\n",
    "for i in range(1, len(n_sparse[\"train\"])):\n",
    "    pls = PLSRegression(n_components=i)\n",
    "    pls.fit(X=n_sparse[\"train\"], Y=y[\"train\"])\n",
    "    pls_scores_n.append(pls.score(X=n_sparse[\"val\"], y=y[\"val\"]))"
   ]
  },
  {
   "cell_type": "code",
   "execution_count": 125,
   "id": "8b6f6729",
   "metadata": {},
   "outputs": [
    {
     "data": {
      "image/png": "[encoded data removed]",
      "text/plain": [
       "<Figure size 432x288 with 1 Axes>"
      ]
     },
     "metadata": {
      "needs_background": "light"
     },
     "output_type": "display_data"
    }
   ],
   "source": [
    "plt.plot(pls_scores[:10], c=\"b\")\n",
    "plt.plot(pls_scores_n[:10], c=\"r\")\n",
    "plt.show()"
   ]
  },
  {
   "cell_type": "code",
   "execution_count": null,
   "id": "d5d80c30",
   "metadata": {},
   "outputs": [],
   "source": []
  }
 ],
 "metadata": {
  "kernelspec": {
   "display_name": "apm",
   "language": "python",
   "name": "apm"
  },
  "language_info": {
   "codemirror_mode": {
    "name": "ipython",
    "version": 3
   },
   "file_extension": ".py",
   "mimetype": "text/x-python",
   "name": "python",
   "nbconvert_exporter": "python",
   "pygments_lexer": "ipython3",
   "version": "3.9.7"
  }
 },
 "nbformat": 4,
 "nbformat_minor": 5
}
