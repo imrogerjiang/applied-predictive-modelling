{
 "cells": [
  {
   "cell_type": "markdown",
   "id": "73603892",
   "metadata": {},
   "source": [
    "## 4.1\n",
    "\n",
    "**Consider the music genre data set described in Sect. 1.4. The objective for these data is to use the predictors to classify music samples into the appropriate music genre.**\n",
    "\n",
    "**a) What data splitting method(s) would you use for these data? Explain.**\n",
    "\n",
    "Stratified sampling over target variable and song/peformer if available. This actually depends on the the final application of the model/unseen test data. Ideally, the validation set would have the same distribution as the testing data/application. Since song samples/peformers may be correlated, the split should ideally be stratified over samples/peformers to evaluate the model over as differnt sample/performers as possible.\n",
    "\n",
    "Train/test split.\n",
    "\n",
    "**(b) Using tools described in this chapter, provide code for implementing your approach(es).**"
   ]
  },
  {
   "cell_type": "raw",
   "id": "3a74a760",
   "metadata": {},
   "source": [
    "import numpy as np\n",
    "import pandas as pd\n",
    "from sklearn.model_selection import train_test_split\n",
    "\n",
    "train_test_split(df, y, test_size=0.1, stratify=y)"
   ]
  },
  {
   "cell_type": "markdown",
   "id": "d3491d33",
   "metadata": {},
   "source": [
    "## 4.2\n",
    "\n",
    "**Consider the permeability data set described in Sect. 1.4. The objective for these data is to use the predictors to model compounds’ permeability.**\n",
    "\n",
    "**a) What data splitting method(s) would you use for these data? Explain.**\n",
    "\n",
    "This dataset has 165 unique compounds (obs) but 1107 predictors. Leave one out split would maximise the number of obs available for prediction or k-fold split where k=80 \n",
    "\n",
    "**(b) Using tools described in this chapter, provide code for implementing your approach(es).**"
   ]
  },
  {
   "cell_type": "raw",
   "id": "d8a28a38",
   "metadata": {},
   "source": [
    "from sklearn.model_selection import KFold\n",
    "\n",
    "\n",
    "kf = KFold(n_splits = df.shape[0])\n",
    "kf.get_n_splits(df)\n",
    "for train_index, test_index in kdf.split(df):\n",
    "    x_train, x_test = df.iloc(train_index)[predictors], df.iloc(test_index)[predictors]\n",
    "    y_train, y_test = df.iloc(train_index)[target], df.iloc(test_index)[target]"
   ]
  },
  {
   "cell_type": "markdown",
   "id": "123ab22f",
   "metadata": {},
   "source": [
    "## 4.3\n",
    "\n",
    "**Partial least squares (Sect. 6.3) was used to model the yield of a chemical manufacturing process (Sect. 1.4). The objective of this analysis is to find the number of PLS components that yields the optimal R2 value (Sect. 5.1). PLS models with 1 through 10 components were each evaluated using five repeats of 10-fold cross-validation and the results are presented in the following table:**\n",
    "\n",
    "**a) Using the “one-standard error” method, what number of PLS components provides the most parsimonious model?**\n",
    "\n",
    "The model with 4 components leads to the highest mean R2 (0.545) a decrease in 1 std error is 0.542, however there are no models with fewer components with R2 mean greater than 0.542. Hence the most parsimonious model has 4 components.\n",
    "\n",
    "**b) Compute the tolerance values for this example. If a 10 % loss in R2 is acceptable, then what is the optimal number of PLS components?**\n",
    "\n",
    "10% Loss acceptable -> Choose model with 2 components\n",
    "\n",
    "**c) Several other models (discussed in Part II) with varying degrees of complexity were trained and tuned and the results are presented in Fig. 4.13. If the goal is to select the model that optimizes R2, then which model(s) would you choose, and why?**\n",
    "\n",
    "Random Forests as it has highest average and 95% CI bounds.\n",
    "\n",
    "**d) Prediction time, as well as model complexity (Sect. 4.8) are other factors to consider when selecting the optimal model(s). Given each model’s prediction time, model complexity, and R2 estimates, which model(s) would you choose, and why?**\n",
    "\n",
    "Depends on the application. The graph shows a trade off exists between R2 and Prediction time, depending on how time critical, boosted linear regression, SVM or Random Forests are all valid choices. Overall, for this application, SVM could be considered to be fairly interpretable, while offering near optimal predictive R2 at a reasonable speed."
   ]
  },
  {
   "cell_type": "markdown",
   "id": "e1359ddd",
   "metadata": {},
   "source": [
    "## 4.4\n",
    "\n",
    "**Brodnjak-Vonina et al. (2005) develop a methodology for food laborato-ries to determine the type of oil from a sample. In their procedure, they used a gas chromatograph (an instrument that separate chemicals in a sample) to measure seven different fatty acids in an oil. These measurements would then be used to predict the type of oil in a food samples. To create their model, they used 96 samples2 of seven types of oils.**\n",
    "\n",
    "**a) Use the sample function in base R to create a completely random sample of 60 oils. How closely do the frequencies of the random sample match the original samples? Repeat this procedure several times of understand the variation in the sampling process.**\n",
    "\n",
    "The distribution is not always representitive of the original samples. Over a large number of trials, the variation will even out, however for small n<100, stratified sampling will have a distribution closer to the original distribution.\n",
    "\n",
    "**b) Use the caret package function createDataPartition to create a stratified random sample. How does this compare to the completely random samples?**\n",
    "\n",
    "Original Sample:\n",
    "A    0.385417\n",
    "B    0.270833\n",
    "E    0.114583\n",
    "F    0.104167\n",
    "D    0.072917\n",
    "C    0.031250\n",
    "G    0.020833\n",
    "\n",
    "Stratified Sample\n",
    "A  0.383333\n",
    "B  0.266667\n",
    "E  0.116667\n",
    "F  0.100000\n",
    "D  0.083333\n",
    "C  0.033333\n",
    "G  0.016667\n",
    "\n",
    "Stratified sampling seeks to mimic the proportion of the original sample, however may fail to do so when few (<5) obs exist for certain classes (G)\n",
    "\n",
    "**c) With such a small samples size, what are the options for determining performance of the model? Should a test set be used?**\n",
    "\n",
    "10-Fold cross validation, bootstrapping. Model performance should be evaluated with and without stratified sampling.\n",
    "\n",
    "**d) One method for understanding the uncertainty of a test set is to use a confidence interval. To obtain a confidence interval for the overall accuracy, the based R function binom.test can be used. It requires the user to input the number of samples and the number correctly classified to calculate the interval. For example, suppose a test set sample of 20 oil samples was set aside and 76 were used for model training. For this test set size and a model that is about 80 % accurate (16 out of 20 correct), the confidence interval would be computed using**\n",
    "\n",
    "    > binom.test(16, 20)\n",
    "    Exact binomial test\n",
    "    data: 16 and 20\n",
    "    number of successes = 16, number of trials = 20, p-value = 0.01182\n",
    "\n",
    "    alternative hypothesis: true probability of success is not equal to 0.5\n",
    "\n",
    "    95 percent confidence interval:\n",
    "    0.563386 0.942666\n",
    "    sample estimates:\n",
    "\n",
    "    probability of success\n",
    "    0.8\n",
    "\n",
    "**In this case, the width of the 95 % confidence interval is 37.9 %. Try different samples sizes and accuracy rates to understand the trade-off between the uncertainty in the results, the model performance, and the test set size.**\n",
    "\n",
    "The accuracy of a test set at measuring model performance can be considered a random variable. As the test set size, or the number of test sets measured increases, the performance of the model can be more accurately accessed. Issues to be considered -> Does the model more likely make false positive or false negative errors? Why? Are the errors biased in any way?"
   ]
  },
  {
   "cell_type": "code",
   "execution_count": 1,
   "id": "a8134e64",
   "metadata": {},
   "outputs": [],
   "source": [
    "import numpy as np\n",
    "import pandas as pd\n",
    "import seaborn as sns\n",
    "from sklearn.model_selection import train_test_split\n",
    "from matplotlib import pyplot as plt"
   ]
  },
  {
   "cell_type": "code",
   "execution_count": 2,
   "id": "2a0ef85c",
   "metadata": {},
   "outputs": [],
   "source": [
    "oilType = pd.read_csv(\"data/oilType.csv\",header=0,index_col=\"id\")"
   ]
  },
  {
   "cell_type": "code",
   "execution_count": 3,
   "id": "3bed66d0",
   "metadata": {},
   "outputs": [
    {
     "data": {
      "text/plain": [
       "[]"
      ]
     },
     "execution_count": 3,
     "metadata": {},
     "output_type": "execute_result"
    },
    {
     "data": {
      "image/png": "[encoded data removed]",
      "text/plain": [
       "<Figure size 432x288 with 1 Axes>"
      ]
     },
     "metadata": {
      "needs_background": "light"
     },
     "output_type": "display_data"
    }
   ],
   "source": [
    "tally = oilType[\"x\"].value_counts()\n",
    "plt.bar(x=tally.index, height=tally.values)\n",
    "plt.plot()"
   ]
  },
  {
   "cell_type": "code",
   "execution_count": 4,
   "id": "f88fb882",
   "metadata": {},
   "outputs": [
    {
     "name": "stdout",
     "output_type": "stream",
     "text": [
      "(96, 1)\n",
      "A    37\n",
      "B    26\n",
      "E    11\n",
      "F    10\n",
      "D     7\n",
      "C     3\n",
      "G     2\n",
      "Name: x, dtype: int64\n"
     ]
    }
   ],
   "source": [
    "print(oilType.shape)\n",
    "print(tally)"
   ]
  },
  {
   "cell_type": "code",
   "execution_count": 5,
   "id": "d7146054",
   "metadata": {},
   "outputs": [
    {
     "data": {
      "text/plain": [
       "x\n",
       "A    25\n",
       "B    17\n",
       "E     8\n",
       "F     5\n",
       "D     2\n",
       "G     2\n",
       "C     1\n",
       "dtype: int64"
      ]
     },
     "execution_count": 5,
     "metadata": {},
     "output_type": "execute_result"
    }
   ],
   "source": [
    "oilType.sample(n=60).value_counts()"
   ]
  },
  {
   "cell_type": "code",
   "execution_count": 7,
   "id": "5ac37a61",
   "metadata": {},
   "outputs": [],
   "source": [
    "n=10_000\n",
    "random_samples = pd.DataFrame(\n",
    "    [oilType.sample(n=60).value_counts() for _ in range(n)],\n",
    "    index=[i+1 for i in range(n)])\n",
    "random_samples=random_samples.fillna(0)\n",
    "random_samples=random_samples.astype(int)"
   ]
  },
  {
   "cell_type": "code",
   "execution_count": 8,
   "id": "e9471737",
   "metadata": {},
   "outputs": [
    {
     "data": {
      "text/plain": [
       "[]"
      ]
     },
     "execution_count": 8,
     "metadata": {},
     "output_type": "execute_result"
    },
    {
     "data": {
      "image/png": "[encoded data removed]",
      "text/plain": [
       "<Figure size 432x288 with 1 Axes>"
      ]
     },
     "metadata": {
      "needs_background": "light"
     },
     "output_type": "display_data"
    }
   ],
   "source": [
    "random_samples[\"A\"].hist()\n",
    "plt.plot()"
   ]
  },
  {
   "cell_type": "code",
   "execution_count": 9,
   "id": "51bc68b7",
   "metadata": {
    "scrolled": true
   },
   "outputs": [
    {
     "data": {
      "text/plain": [
       "[]"
      ]
     },
     "execution_count": 9,
     "metadata": {},
     "output_type": "execute_result"
    },
    {
     "data": {
      "image/png": "[encoded data removed]",
      "text/plain": [
       "<Figure size 432x288 with 1 Axes>"
      ]
     },
     "metadata": {
      "needs_background": "light"
     },
     "output_type": "display_data"
    }
   ],
   "source": [
    "sns.kdeplot(data=random_samples[[\"C\",\"D\",\"E\",\"F\",\"G\"]], bw_adjust=4)\n",
    "plt.plot()"
   ]
  },
  {
   "cell_type": "code",
   "execution_count": 63,
   "id": "74cb770a",
   "metadata": {},
   "outputs": [],
   "source": [
    "stratified_samples = [\n",
    "    train_test_split(oilType,train_size=60,\n",
    "                     stratify=oilType[\"x\"],shuffle=True)[0]\n",
    "        .value_counts()\n",
    "    for _ in range(10_000)]\n",
    "stratified_samples = pd.DataFrame(stratified_samples)"
   ]
  },
  {
   "cell_type": "code",
   "execution_count": 67,
   "id": "fba05f9c",
   "metadata": {
    "scrolled": true
   },
   "outputs": [
    {
     "name": "stdout",
     "output_type": "stream",
     "text": [
      "23    10000\n",
      "Name: (A,), dtype: int64\n",
      "16    10000\n",
      "Name: (B,), dtype: int64\n",
      "7    10000\n",
      "Name: (E,), dtype: int64\n",
      "6    10000\n",
      "Name: (F,), dtype: int64\n",
      "5    10000\n",
      "Name: (D,), dtype: int64\n",
      "2    10000\n",
      "Name: (C,), dtype: int64\n",
      "1    10000\n",
      "Name: (G,), dtype: int64\n"
     ]
    }
   ],
   "source": [
    "for c in stratified_samples.columns:\n",
    "    print(stratified_samples[c].value_counts())"
   ]
  },
  {
   "cell_type": "code",
   "execution_count": 82,
   "id": "35304aae",
   "metadata": {},
   "outputs": [
    {
     "name": "stdout",
     "output_type": "stream",
     "text": [
      "          0\n",
      "x          \n",
      "A  0.383333\n",
      "B  0.266667\n",
      "E  0.116667\n",
      "F  0.100000\n",
      "D  0.083333\n",
      "C  0.033333\n",
      "G  0.016667\n",
      "x\n",
      "A    0.385417\n",
      "B    0.270833\n",
      "E    0.114583\n",
      "F    0.104167\n",
      "D    0.072917\n",
      "C    0.031250\n",
      "G    0.020833\n",
      "dtype: float64\n"
     ]
    }
   ],
   "source": [
    "print(stratified_samples.head(1).T/stratified_samples.head(1).sum(axis=\"columns\")[0])\n",
    "print(oilType.value_counts()/len(oilType))"
   ]
  }
 ],
 "metadata": {
  "kernelspec": {
   "display_name": "coursera",
   "language": "python",
   "name": "coursera"
  },
  "language_info": {
   "codemirror_mode": {
    "name": "ipython",
    "version": 3
   },
   "file_extension": ".py",
   "mimetype": "text/x-python",
   "name": "python",
   "nbconvert_exporter": "python",
   "pygments_lexer": "ipython3",
   "version": "3.9.6"
  }
 },
 "nbformat": 4,
 "nbformat_minor": 5
}
