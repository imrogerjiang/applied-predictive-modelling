{
 "cells": [
  {
   "cell_type": "code",
   "execution_count": 1,
   "id": "30cec9b6",
   "metadata": {},
   "outputs": [],
   "source": [
    "import numpy as np\n",
    "import pandas as pd\n",
    "from matplotlib import pyplot as plt\n",
    "from sklearn.decomposition import PCA\n",
    "from sklearn.model_selection import train_test_split\n",
    "from sklearn import linear_model\n",
    "from scipy.stats import boxcox\n",
    "from scipy.special import inv_boxcox\n",
    "from scipy.stats import norm"
   ]
  },
  {
   "cell_type": "code",
   "execution_count": 2,
   "id": "79c32fd0",
   "metadata": {},
   "outputs": [],
   "source": [
    "def qq_plot(x):\n",
    "    n = len(x)\n",
    "    x = pd.Series(x)\n",
    "    sample = ((x - x.mean())/x.std()).sort_values(ascending=True)\n",
    "    theoretical = [norm.ppf((k+0.5)/n) for k in range(n)]\n",
    "    plt.scatter(x=theoretical,y=sample)\n",
    "    plt.axline((0,0), slope=1, color=\"darksalmon\")\n",
    "    plt.show()"
   ]
  },
  {
   "cell_type": "markdown",
   "id": "146116cd",
   "metadata": {},
   "source": [
    "## 6.1\n",
    "\n",
    "**The theory of IR spectroscopy holds that unique molecular structures absorb IR frequencies differently. In practice a spectrometer fires a series of IR frequencies into a sample material, and the device measures the absorbance of the sample at each individual frequency. This series of measurements creates a spectrum profile which can then be used to determine the chemical makeup of the sample material.**\n",
    "\n",
    "**A Tecator Infratec Food and Feed Analyzer instrument was used to analyze 215 samples of meat across 100 frequencies. A sample of these frequency profiles is displayed in Fig. 6.20. In addition to an IR profile, analytical chemistry determined the percent content of water, fat, and protein for each sample.**\n",
    "\n",
    "**(a) Load the data**\n",
    "\n",
    "**(b) In this example the predictors are the measurements at the individual fre-quencies. Because the frequencies lie in a systematic order (850–1,050 nm), the predictors have a high degree of correlation. Hence, the data lie in a smaller dimension than the total number of predictors (100). Use PCA to determine the effective dimension of these data. What is the effective dimension?**\n",
    "\n",
    "Variance explained by first 10 components of PCA\\\n",
    "0 - 26.1271\\\n",
    "1 - 0.2385\\\n",
    "2 - 0.0784\\\n",
    "3 - 0.0302\\\n",
    "4 - 0.0015\\\n",
    "5 - 0.0007\\\n",
    "6 - 0.0002\\\n",
    "7 - 0.0001\\\n",
    "8 - 0.0000\\\n",
    "9 - 0.0000\n",
    "\n",
    "Used boxcox transform and normalisation to reduce skewness. Variation explained remains same ratio.\n",
    "\n",
    "The effective dimention of PCA is 1.\n",
    "\n",
    "**(c) Split the data into a training and a test set, pre-process the data, and build each variety of models described in this chapter. For those models with tuning parameters, what are the optimal values of the tuning parameter(s)?**\n",
    "\n",
    "**(d) Which model has the best predictive ability? Is any model significantly better or worse than the others?**\n",
    "\n",
    "**(e) Explain which model you would use for predicting the fat content of a sample.**"
   ]
  },
  {
   "cell_type": "code",
   "execution_count": 3,
   "id": "0c6156c7",
   "metadata": {},
   "outputs": [],
   "source": [
    "# Reading in data\n",
    "\n",
    "absorb = pd.read_csv(\"/home/roger/code/applied-predictive-modeling/data/absorb.csv\", index_col=\"id\", header=0)\n",
    "endpoints = pd.read_csv(\"/home/roger/code/applied-predictive-modeling/data/endpoints.csv\", index_col=\"id\", header=0)\n",
    "endpoints=endpoints.rename(columns=\n",
    "    {\"V2\":\"fat\"})\n",
    "absorb = pd.concat([absorb, endpoints[[\"fat\"]]], axis=\"columns\")"
   ]
  },
  {
   "cell_type": "code",
   "execution_count": 4,
   "id": "d9c3b1d4",
   "metadata": {},
   "outputs": [
    {
     "data": {
      "text/plain": [
       "PCA()"
      ]
     },
     "execution_count": 4,
     "metadata": {},
     "output_type": "execute_result"
    }
   ],
   "source": [
    "pca = PCA()\n",
    "pca.fit(absorb.drop(columns=\"fat\"))"
   ]
  },
  {
   "cell_type": "code",
   "execution_count": 5,
   "id": "5a86fa6c",
   "metadata": {},
   "outputs": [
    {
     "name": "stdout",
     "output_type": "stream",
     "text": [
      "Total: 26.476848832131616\n",
      "0 26.1271\n",
      "1 0.2385\n",
      "2 0.0784\n",
      "3 0.0302\n",
      "4 0.0015\n",
      "5 0.0007\n",
      "6 0.0002\n",
      "7 0.0001\n",
      "8 0.0000\n",
      "9 0.0000\n"
     ]
    }
   ],
   "source": [
    "print(\"Total:\", pca.explained_variance_.sum())\n",
    "for i, var in enumerate(pca.explained_variance_[:10]):\n",
    "    print(i, f\"{var:.4f}\")"
   ]
  },
  {
   "cell_type": "code",
   "execution_count": 6,
   "id": "c03f9a17",
   "metadata": {},
   "outputs": [],
   "source": [
    "absorb_n = (absorb - absorb.mean())/absorb.std()\n",
    "absorb_n[\"fat\"] = absorb[\"fat\"]"
   ]
  },
  {
   "cell_type": "code",
   "execution_count": 7,
   "id": "cf4e941c",
   "metadata": {},
   "outputs": [
    {
     "data": {
      "text/plain": [
       "PCA()"
      ]
     },
     "execution_count": 7,
     "metadata": {},
     "output_type": "execute_result"
    }
   ],
   "source": [
    "pca_n = PCA()\n",
    "pca_n.fit(absorb_n.drop(columns=\"fat\"))"
   ]
  },
  {
   "cell_type": "code",
   "execution_count": 8,
   "id": "5c8e5e48",
   "metadata": {},
   "outputs": [
    {
     "name": "stdout",
     "output_type": "stream",
     "text": [
      "0 26.1271\n",
      "1 0.2385\n",
      "2 0.0784\n",
      "3 0.0302\n",
      "4 0.0015\n",
      "5 0.0007\n",
      "6 0.0002\n",
      "7 0.0001\n",
      "8 0.0000\n",
      "9 0.0000\n"
     ]
    }
   ],
   "source": [
    "for i, var in enumerate(pca.explained_variance_[:10]):\n",
    "    print(i, f\"{var:.4f}\")"
   ]
  },
  {
   "cell_type": "code",
   "execution_count": 9,
   "id": "a45ac4bc",
   "metadata": {
    "scrolled": true
   },
   "outputs": [
    {
     "data": {
      "image/png": "[encoded data removed]",
      "text/plain": [
       "<Figure size 432x288 with 1 Axes>"
      ]
     },
     "metadata": {
      "needs_background": "light"
     },
     "output_type": "display_data"
    }
   ],
   "source": [
    "# qq plot for untransformed variable\n",
    "qq_plot(absorb_n[\"V1\"])"
   ]
  },
  {
   "cell_type": "code",
   "execution_count": 10,
   "id": "35d7b649",
   "metadata": {},
   "outputs": [
    {
     "data": {
      "image/png": "[encoded data removed]",
      "text/plain": [
       "<Figure size 432x288 with 1 Axes>"
      ]
     },
     "metadata": {
      "needs_background": "light"
     },
     "output_type": "display_data"
    }
   ],
   "source": [
    "# qq plot for box cox transformed variable\n",
    "x_bc, l = boxcox(absorb[\"V1\"])\n",
    "qq_plot(x_bc)"
   ]
  },
  {
   "cell_type": "code",
   "execution_count": 11,
   "id": "6adec69d",
   "metadata": {},
   "outputs": [],
   "source": [
    "# use boxcox to transform all variables, what effect does this have on PCA?\n",
    "\n",
    "absorb_bc = pd.DataFrame()\n",
    "bc_lambdas = []\n",
    "for c in absorb.columns:\n",
    "    a, b = boxcox(absorb[c])\n",
    "    a = pd.Series(a, name=c, index=absorb.index)\n",
    "    absorb_bc = pd.concat([absorb_bc, a], axis=\"columns\")\n",
    "    bc_lambdas.append(b)\n",
    "absorb_bc[\"fat\"] = absorb[\"fat\"]"
   ]
  },
  {
   "cell_type": "code",
   "execution_count": 12,
   "id": "84e6df30",
   "metadata": {},
   "outputs": [
    {
     "data": {
      "text/plain": [
       "PCA()"
      ]
     },
     "execution_count": 12,
     "metadata": {},
     "output_type": "execute_result"
    }
   ],
   "source": [
    "pca_bc = PCA()\n",
    "pca_bc.fit(absorb_bc.drop(columns=\"fat\"))"
   ]
  },
  {
   "cell_type": "code",
   "execution_count": 13,
   "id": "2641cbee",
   "metadata": {},
   "outputs": [
    {
     "name": "stdout",
     "output_type": "stream",
     "text": [
      "0 0.1585\n",
      "1 0.0012\n",
      "2 0.0004\n",
      "3 0.0001\n",
      "4 0.0000\n",
      "5 0.0000\n",
      "6 0.0000\n",
      "7 0.0000\n",
      "8 0.0000\n",
      "9 0.0000\n"
     ]
    }
   ],
   "source": [
    "for i, var in enumerate(pca_bc.explained_variance_[:10]):\n",
    "    print(i, f\"{var:.4f}\")"
   ]
  },
  {
   "cell_type": "code",
   "execution_count": 14,
   "id": "9afc4177",
   "metadata": {},
   "outputs": [],
   "source": [
    "# With/without standardisation + boxcox\n",
    "# Ordinary Least Squares\n",
    "# PCA\n",
    "# PLS\n",
    "# squared regularisation\n",
    "# abs regularisation"
   ]
  },
  {
   "cell_type": "code",
   "execution_count": 15,
   "id": "b1216748",
   "metadata": {},
   "outputs": [
    {
     "data": {
      "image/png": "[encoded data removed]",
      "text/plain": [
       "<Figure size 432x288 with 1 Axes>"
      ]
     },
     "metadata": {
      "needs_background": "light"
     },
     "output_type": "display_data"
    }
   ],
   "source": [
    "# checking for patterns in target variable\n",
    "# looks like data is not randomised\n",
    "plt.scatter(x=range(len(absorb[\"fat\"])), y=absorb[\"fat\"])\n",
    "plt.show()"
   ]
  },
  {
   "cell_type": "code",
   "execution_count": 16,
   "id": "e866ff5d",
   "metadata": {},
   "outputs": [],
   "source": [
    "# training/validation/test\n",
    "train_val, test = train_test_split(absorb, test_size=0.2)\n",
    "train, val = train_test_split(train_val, test_size=0.25)"
   ]
  },
  {
   "cell_type": "code",
   "execution_count": 17,
   "id": "8355a50d",
   "metadata": {},
   "outputs": [],
   "source": [
    "# preprocessing\n",
    "def normalise(df):\n",
    "    return (df - df.mean())/df.std()\n",
    "\n",
    "def boxcox_transform(df, lambdas=None):\n",
    "    bc = pd.DataFrame()\n",
    "    bc_lambdas = []\n",
    "    for i, c in enumerate(df.columns):\n",
    "        if lambdas is None:\n",
    "            a, b = boxcox(df[c])\n",
    "            bc_lambdas.append(b)\n",
    "        else:\n",
    "            a = boxcox(df[c], lmbda=lambdas[i])\n",
    "        a = pd.Series(a, name=c, index=df.index)\n",
    "        bc = pd.concat([bc, a], axis=\"columns\")\n",
    "    return bc, bc_lambdas"
   ]
  },
  {
   "cell_type": "code",
   "execution_count": 18,
   "id": "b0cf75de",
   "metadata": {},
   "outputs": [],
   "source": [
    "# Ordinary Least Squares\n",
    "ols_no_preprocessing = linear_model.LinearRegression()\n",
    "ols_normalise = linear_model.LinearRegression(normalize=True)\n",
    "ols_boxcox = linear_model.LinearRegression(normalize=True)"
   ]
  },
  {
   "cell_type": "code",
   "execution_count": 19,
   "id": "1c3b2184",
   "metadata": {},
   "outputs": [
    {
     "data": {
      "text/plain": [
       "LinearRegression(normalize=True)"
      ]
     },
     "execution_count": 19,
     "metadata": {},
     "output_type": "execute_result"
    }
   ],
   "source": [
    "# Training\n",
    "ols_no_preprocessing.fit(X=train_val.drop(columns=\"fat\"), y=train_val[\"fat\"])\n",
    "ols_normalise.fit(X=train_val.drop(columns=\"fat\"), y=train_val[\"fat\"])\n",
    "x, lambdas = boxcox_transform(train_val)\n",
    "ols_boxcox.fit(X=x.drop(columns=\"fat\"), y=train_val[\"fat\"])"
   ]
  },
  {
   "cell_type": "code",
   "execution_count": 78,
   "id": "ce1ea332",
   "metadata": {},
   "outputs": [
    {
     "name": "stdout",
     "output_type": "stream",
     "text": [
      "Ordinary Least Squares without preprocessing R2: 0.8064\n",
      "Ordinary Least Squares with normalisation R2: 0.8064\n",
      "Ordinary Least Squares with boxcox R2: 0.9317\n"
     ]
    }
   ],
   "source": [
    "# Testing\n",
    "print(f'Ordinary Least Squares without preprocessing R2: {ols_no_preprocessing.score(X=test.drop(columns=\"fat\"), y=test[\"fat\"]):.4f}')\n",
    "print(f'Ordinary Least Squares with normalisation R2: {ols_normalise.score(X=test.drop(columns=\"fat\"), y=test[\"fat\"]):.4f}')\n",
    "\n",
    "# boxcox transform\n",
    "x, _ = boxcox_transform(test.drop(columns=\"fat\"), lambdas)\n",
    "print(f'Ordinary Least Squares with boxcox R2: {ols_boxcox.score(X=x, y=test[\"fat\"]):.4f}')"
   ]
  },
  {
   "cell_type": "code",
   "execution_count": null,
   "id": "f56dd483",
   "metadata": {},
   "outputs": [],
   "source": [
    "# PCR\n",
    "# Loop through top X components\n",
    "# Fit regression\n",
    "# Find R2 on test set\n",
    "# Graph"
   ]
  },
  {
   "cell_type": "code",
   "execution_count": null,
   "id": "ed63bdd6",
   "metadata": {},
   "outputs": [],
   "source": [
    "# PLS\n",
    "# Loop through top X components\n",
    "# Fit regression\n",
    "# Find R2 on test set\n",
    "# Graph"
   ]
  }
 ],
 "metadata": {
  "kernelspec": {
   "display_name": "coursera",
   "language": "python",
   "name": "coursera"
  },
  "language_info": {
   "codemirror_mode": {
    "name": "ipython",
    "version": 3
   },
   "file_extension": ".py",
   "mimetype": "text/x-python",
   "name": "python",
   "nbconvert_exporter": "python",
   "pygments_lexer": "ipython3",
   "version": "3.9.6"
  }
 },
 "nbformat": 4,
 "nbformat_minor": 5
}
