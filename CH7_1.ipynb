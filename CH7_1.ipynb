{
 "cells": [
  {
   "cell_type": "code",
   "execution_count": 19,
   "id": "6c8a1a6b",
   "metadata": {},
   "outputs": [],
   "source": [
    "import numpy as np\n",
    "import pandas as pd\n",
    "from sklearn.svm import SVR\n",
    "from matplotlib import pyplot as plt"
   ]
  },
  {
   "cell_type": "markdown",
   "id": "e666674e",
   "metadata": {},
   "source": [
    "## 7.1\n",
    "\n",
    "**Simulate a single predictor and a nonlinear relationship, such as a sin wave shown in Fig. 7.7, and investigate the relationship between the cost, \\epsilon, and kernel parameters for a support vector machine model**"
   ]
  },
  {
   "cell_type": "code",
   "execution_count": 15,
   "id": "9a395fe2",
   "metadata": {},
   "outputs": [],
   "source": [
    "np.random.seed(seed=12345)\n",
    "x = [i/100 for i in range(200, 1000, 8)]"
   ]
  },
  {
   "cell_type": "code",
   "execution_count": 13,
   "id": "d3191b7a",
   "metadata": {},
   "outputs": [],
   "source": [
    "df = pd.DataFrame(x, columns=[\"x\"])"
   ]
  },
  {
   "cell_type": "code",
   "execution_count": 22,
   "id": "c76574a9",
   "metadata": {},
   "outputs": [],
   "source": [
    "df[\"y\"] = np.sin(df[\"x\"])\n",
    "df[\"y\"] = df[\"y\"] + np.random.normal(0, 0.25, 100)"
   ]
  },
  {
   "cell_type": "code",
   "execution_count": 23,
   "id": "fbcd926c",
   "metadata": {},
   "outputs": [
    {
     "data": {
      "text/plain": [
       "[]"
      ]
     },
     "execution_count": 23,
     "metadata": {},
     "output_type": "execute_result"
    },
    {
     "data": {
      "image/png": "[encoded data removed]",
      "text/plain": [
       "<Figure size 432x288 with 1 Axes>"
      ]
     },
     "metadata": {
      "needs_background": "light"
     },
     "output_type": "display_data"
    }
   ],
   "source": [
    "plt.scatter(x=df[\"x\"], y=df[\"y\"])\n",
    "plt.plot()"
   ]
  },
  {
   "cell_type": "code",
   "execution_count": 24,
   "id": "0a22d651",
   "metadata": {},
   "outputs": [],
   "source": [
    "cost=1\n",
    "epsilon=0.1\n",
    "rbfSVM = SVR(kernel=\"rbf\", C=cost, epsilon=epsilon)"
   ]
  },
  {
   "cell_type": "code",
   "execution_count": 27,
   "id": "3f0df9d0",
   "metadata": {},
   "outputs": [
    {
     "data": {
      "text/plain": [
       "SVR(C=1)"
      ]
     },
     "execution_count": 27,
     "metadata": {},
     "output_type": "execute_result"
    }
   ],
   "source": [
    "rbfSVM.fit(X=df[[\"x\"]], y=df[\"y\"])"
   ]
  },
  {
   "cell_type": "code",
   "execution_count": 40,
   "id": "6f62cac3",
   "metadata": {},
   "outputs": [
    {
     "data": {
      "text/plain": [
       "[]"
      ]
     },
     "execution_count": 40,
     "metadata": {},
     "output_type": "execute_result"
    },
    {
     "data": {
      "image/png": "[encoded data removed]",
      "text/plain": [
       "<Figure size 432x288 with 1 Axes>"
      ]
     },
     "metadata": {
      "needs_background": "light"
     },
     "output_type": "display_data"
    }
   ],
   "source": [
    "plt.plot(df[\"x\"], rbfSVM.predict(df[[\"x\"]]), color=\"r\")\n",
    "plt.scatter(x=df[\"x\"], y=df[\"y\"], color=\"b\")\n",
    "plt.plot()"
   ]
  },
  {
   "cell_type": "code",
   "execution_count": 32,
   "id": "2814ea84",
   "metadata": {},
   "outputs": [
    {
     "data": {
      "text/plain": [
       "0     2.00\n",
       "1     2.08\n",
       "2     2.16\n",
       "3     2.24\n",
       "4     2.32\n",
       "      ... \n",
       "95    9.60\n",
       "96    9.68\n",
       "97    9.76\n",
       "98    9.84\n",
       "99    9.92\n",
       "Name: x, Length: 100, dtype: float64"
      ]
     },
     "execution_count": 32,
     "metadata": {},
     "output_type": "execute_result"
    }
   ],
   "source": [
    "df[\"x\"]"
   ]
  },
  {
   "cell_type": "code",
   "execution_count": null,
   "id": "d0417662",
   "metadata": {},
   "outputs": [],
   "source": []
  }
 ],
 "metadata": {
  "kernelspec": {
   "display_name": "apm",
   "language": "python",
   "name": "apm"
  },
  "language_info": {
   "codemirror_mode": {
    "name": "ipython",
    "version": 3
   },
   "file_extension": ".py",
   "mimetype": "text/x-python",
   "name": "python",
   "nbconvert_exporter": "python",
   "pygments_lexer": "ipython3",
   "version": "3.9.7"
  }
 },
 "nbformat": 4,
 "nbformat_minor": 5
}
