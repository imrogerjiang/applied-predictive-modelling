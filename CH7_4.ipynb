{
 "cells": [
  {
   "cell_type": "markdown",
   "id": "913c9eca",
   "metadata": {},
   "source": [
    "## 7.4\n",
    "\n",
    "Return to the permeability problem outlined in Exercise 6.2. Train several nonlinear regression models and evaluate the resampling and test set performance.\n",
    "\n",
    "**(a)** Which nonlinear regression model gives the optimal resampling and test set performance?\n",
    "\n",
    "**(b)** Do any of the nonlinear models outperform the optimal linear model you previously developed in Exercise 6.2? If so, what might this tell you about the underlying relationship between the predictors and the response?\n",
    "\n",
    "**(c)** Would you recommend any of the models you have developed to replace the permeability laboratory experiment?"
   ]
  },
  {
   "cell_type": "code",
   "execution_count": null,
   "id": "39687828",
   "metadata": {},
   "outputs": [],
   "source": [
    "# Notes -------------------------------------\n",
    "\n",
    "# Find out what preprocessing was used in Q6.2\n",
    "# - Only PCA was used.\n",
    "\n",
    "# What was the r2 for the linear models. (100 trials)\n",
    "# - OLS               -3.6e23 \n",
    "# - OLS with PCA      0.34\n",
    "# - PLS               0.28\n",
    "# - L1 regularisation 0.38\n",
    "# - L2 regularisation 0.19\n",
    "\n",
    "# Non-linear regression models\n",
    "# Neural Networks\n",
    "# o Implement a single example of nn regressor\n",
    "# - Implement cross validation for nn\n",
    "# - Test cross validation for baseline architecture\n",
    "# - Google and implement better architectures.\n",
    "\n",
    "# MARS\n",
    "# SVM\n",
    "# KNN"
   ]
  },
  {
   "cell_type": "code",
   "execution_count": 3,
   "id": "da5329f6",
   "metadata": {},
   "outputs": [],
   "source": [
    "import numpy as np\n",
    "import pandas as pd\n",
    "from sklearn.metrics import r2_score, mean_squared_error\n",
    "from sklearn.svm import SVR\n",
    "from sklearn.decomposition import PCA\n",
    "from matplotlib import pyplot as plt\n",
    "from matplotlib import cm\n",
    "from pyearth import Earth\n",
    "import tensorflow as tf\n",
    "from tensorflow import keras"
   ]
  },
  {
   "cell_type": "code",
   "execution_count": 4,
   "id": "2e51efa7",
   "metadata": {},
   "outputs": [],
   "source": [
    "from sklearn.model_selection import train_test_split\n",
    "\n",
    "def split_data(df, target, val_size=0.2, test_size=0.2, drop_columns=[]):\n",
    "    x={}\n",
    "    y={}\n",
    "    \n",
    "    train_val, test = train_test_split(df, test_size=test_size)\n",
    "    train, val = train_test_split(train_val, test_size=val_size/(1-test_size))\n",
    "    ds = {}\n",
    "    x[\"train\"] = train.drop(columns=[target]+drop_columns)\n",
    "    x[\"val\"] = val.drop(columns=[target]+drop_columns)\n",
    "    x[\"train_val\"] = train_val.drop(columns=[target]+drop_columns)\n",
    "    x[\"test\"] = test.drop(columns=[target]+drop_columns)\n",
    "    y[\"train\"] = train[target]\n",
    "    y[\"val\"] = val[target]\n",
    "    y[\"train_val\"] = train_val[target]\n",
    "    y[\"test\"] = test[target]\n",
    "    \n",
    "    return x,y"
   ]
  },
  {
   "cell_type": "code",
   "execution_count": 5,
   "id": "a1843ebb",
   "metadata": {},
   "outputs": [],
   "source": [
    "# Loading Data ------------------------------\n",
    "\n",
    "fingerprints = pd.read_csv(\"data/fingerprints.csv\", index_col=\"ID\", header=0)\n",
    "permeability = pd.read_csv(\"data/permeability.csv\", index_col=\"ID\", header=0)\n",
    "\n",
    "data = pd.concat([fingerprints, permeability], axis=\"columns\")\n",
    "x, y = split_data(data, \"permeability\")"
   ]
  },
  {
   "cell_type": "code",
   "execution_count": 30,
   "id": "6f36b06c",
   "metadata": {},
   "outputs": [],
   "source": [
    "# Preprocessing -----------------------------\n",
    "pca95, pca99 = PCA(n_components=0.95), PCA(n_components=0.99)\n",
    "pca95.fit(x[\"train_val\"])\n",
    "pca99.fit(x[\"train_val\"])\n",
    "\n",
    "x_pca95, x_pca99 = {}, {}\n",
    "for key in x:\n",
    "    x_pca95[key] = pca95.transform(x[key])\n",
    "    x_pca99[key] = pca99.transform(x[key])"
   ]
  },
  {
   "cell_type": "code",
   "execution_count": 23,
   "id": "46c5fae2",
   "metadata": {},
   "outputs": [
    {
     "data": {
      "image/png": "[encoded data removed]",
      "text/plain": [
       "<Figure size 432x288 with 1 Axes>"
      ]
     },
     "metadata": {
      "needs_background": "light"
     },
     "output_type": "display_data"
    }
   ],
   "source": [
    "plt.plot([sum(pca.explained_variance_ratio_[:i]) for i in range(len(pca.explained_variance_ratio_[:i]))])\n",
    "plt.title(\"Cumulative variance explained by x components\")\n",
    "plt.show()"
   ]
  },
  {
   "cell_type": "code",
   "execution_count": 39,
   "id": "174c25bf",
   "metadata": {},
   "outputs": [],
   "source": [
    "# NN without PCA\n",
    "\n",
    "x_tensor, y_tensor = {}, {}\n",
    "\n",
    "for key in x:\n",
    "    x_tensor[key] = tf.convert_to_tensor(x[key])\n",
    "    y_tensor[key] = tf.convert_to_tensor(y[key])"
   ]
  },
  {
   "cell_type": "code",
   "execution_count": 40,
   "id": "ae72145e",
   "metadata": {},
   "outputs": [],
   "source": [
    "model = tf.keras.models.Sequential([\n",
    "    tf.keras.layers.Dense(128, activation='relu'),\n",
    "    tf.keras.layers.Dense(10, activation='relu'),\n",
    "    tf.keras.layers.Dense(1)\n",
    "])\n",
    "\n",
    "loss_fn = tf.keras.losses.MeanSquaredError()\n",
    "\n",
    "# Stop training early if no improvement in validation error\n",
    "callbacks = [\n",
    "    keras.callbacks.EarlyStopping(\n",
    "        monitor=\"val_loss\",\n",
    "        min_delta=1e-2,\n",
    "        patience=5 #No improvement for 5 iterations\n",
    "    )\n",
    "]\n",
    "\n",
    "model.compile(optimizer='adam',\n",
    "              loss=loss_fn)"
   ]
  },
  {
   "cell_type": "code",
   "execution_count": 41,
   "id": "295fe375",
   "metadata": {
    "scrolled": true
   },
   "outputs": [
    {
     "name": "stdout",
     "output_type": "stream",
     "text": [
      "Epoch 1/500\n",
      "4/4 [==============================] - 1s 99ms/step - loss: 234.3306 - val_loss: 669.0680\n",
      "Epoch 2/500\n",
      "4/4 [==============================] - 0s 49ms/step - loss: 215.3463 - val_loss: 567.9426\n",
      "Epoch 3/500\n",
      "4/4 [==============================] - 0s 45ms/step - loss: 195.7373 - val_loss: 494.3609\n",
      "Epoch 4/500\n",
      "4/4 [==============================] - 0s 54ms/step - loss: 165.4078 - val_loss: 450.6317\n",
      "Epoch 5/500\n",
      "4/4 [==============================] - 0s 77ms/step - loss: 169.4261 - val_loss: 427.4632\n",
      "Epoch 6/500\n",
      "4/4 [==============================] - 0s 77ms/step - loss: 140.5716 - val_loss: 422.4362\n",
      "Epoch 7/500\n",
      "4/4 [==============================] - 0s 66ms/step - loss: 151.5911 - val_loss: 411.4763\n",
      "Epoch 8/500\n",
      "4/4 [==============================] - 0s 63ms/step - loss: 123.4936 - val_loss: 401.2246\n",
      "Epoch 9/500\n",
      "4/4 [==============================] - 0s 52ms/step - loss: 126.2548 - val_loss: 382.1119\n",
      "Epoch 10/500\n",
      "4/4 [==============================] - 0s 69ms/step - loss: 121.1941 - val_loss: 366.8037\n",
      "Epoch 11/500\n",
      "4/4 [==============================] - 0s 34ms/step - loss: 84.9576 - val_loss: 358.2043\n",
      "Epoch 12/500\n",
      "4/4 [==============================] - 0s 63ms/step - loss: 90.6026 - val_loss: 336.7627\n",
      "Epoch 13/500\n",
      "4/4 [==============================] - 0s 81ms/step - loss: 79.5634 - val_loss: 320.9471\n",
      "Epoch 14/500\n",
      "4/4 [==============================] - 0s 82ms/step - loss: 72.4964 - val_loss: 297.7756\n",
      "Epoch 15/500\n",
      "4/4 [==============================] - 0s 68ms/step - loss: 83.4243 - val_loss: 284.5820\n",
      "Epoch 16/500\n",
      "4/4 [==============================] - 0s 80ms/step - loss: 66.9682 - val_loss: 281.7650\n",
      "Epoch 17/500\n",
      "4/4 [==============================] - 0s 75ms/step - loss: 63.6075 - val_loss: 286.2291\n",
      "Epoch 18/500\n",
      "4/4 [==============================] - 0s 73ms/step - loss: 55.6119 - val_loss: 286.9770\n",
      "Epoch 19/500\n",
      "4/4 [==============================] - 0s 74ms/step - loss: 61.1460 - val_loss: 285.1038\n",
      "Epoch 20/500\n",
      "4/4 [==============================] - 0s 70ms/step - loss: 55.6024 - val_loss: 280.0762\n",
      "Epoch 21/500\n",
      "4/4 [==============================] - 0s 61ms/step - loss: 56.4086 - val_loss: 271.9064\n",
      "Epoch 22/500\n",
      "4/4 [==============================] - 0s 88ms/step - loss: 56.3436 - val_loss: 264.1203\n",
      "Epoch 23/500\n",
      "4/4 [==============================] - 0s 83ms/step - loss: 54.4206 - val_loss: 261.3065\n",
      "Epoch 24/500\n",
      "4/4 [==============================] - 0s 73ms/step - loss: 44.3574 - val_loss: 258.2065\n",
      "Epoch 25/500\n",
      "4/4 [==============================] - 0s 37ms/step - loss: 42.0200 - val_loss: 258.8120\n",
      "Epoch 26/500\n",
      "4/4 [==============================] - 0s 60ms/step - loss: 43.9477 - val_loss: 255.1908\n",
      "Epoch 27/500\n",
      "4/4 [==============================] - 0s 87ms/step - loss: 40.2228 - val_loss: 253.7718\n",
      "Epoch 28/500\n",
      "4/4 [==============================] - 0s 81ms/step - loss: 36.4668 - val_loss: 252.4094\n",
      "Epoch 29/500\n",
      "4/4 [==============================] - 0s 82ms/step - loss: 41.1227 - val_loss: 252.5216\n",
      "Epoch 30/500\n",
      "4/4 [==============================] - 0s 69ms/step - loss: 35.3097 - val_loss: 254.3758\n",
      "Epoch 31/500\n",
      "4/4 [==============================] - 0s 72ms/step - loss: 37.1579 - val_loss: 257.1847\n",
      "Epoch 32/500\n",
      "4/4 [==============================] - 0s 75ms/step - loss: 34.2182 - val_loss: 260.1746\n",
      "Epoch 33/500\n",
      "4/4 [==============================] - 0s 65ms/step - loss: 35.7610 - val_loss: 253.7307\n"
     ]
    },
    {
     "data": {
      "text/plain": [
       "<tensorflow.python.keras.callbacks.History at 0x7fc707303bb0>"
      ]
     },
     "execution_count": 41,
     "metadata": {},
     "output_type": "execute_result"
    }
   ],
   "source": [
    "model.fit(\n",
    "    x_tensor[\"train_val\"], \n",
    "    y_tensor[\"train_val\"], \n",
    "    validation_split=0.25, \n",
    "    callbacks=callbacks,\n",
    "    epochs=500)"
   ]
  },
  {
   "cell_type": "code",
   "execution_count": 42,
   "id": "65ff1d5d",
   "metadata": {},
   "outputs": [
    {
     "data": {
      "text/plain": [
       "0.2607339264919043"
      ]
     },
     "execution_count": 42,
     "metadata": {},
     "output_type": "execute_result"
    }
   ],
   "source": [
    "r2_score(y_tensor[\"test\"].numpy(), model.predict(x_tensor[\"test\"]).reshape(-1))"
   ]
  },
  {
   "cell_type": "code",
   "execution_count": 137,
   "id": "02642669",
   "metadata": {},
   "outputs": [
    {
     "data": {
      "text/plain": [
       "11.872260667526938"
      ]
     },
     "execution_count": 137,
     "metadata": {},
     "output_type": "execute_result"
    }
   ],
   "source": [
    "mean_squared_error(y_tensor[\"test\"].numpy(), model.predict(x_tensor[\"test\"]).reshape(-1))**0.5"
   ]
  },
  {
   "cell_type": "code",
   "execution_count": 43,
   "id": "70310e4c",
   "metadata": {},
   "outputs": [],
   "source": [
    "# NN with PCA\n",
    "\n",
    "x_tensor, y_tensor = {}, {}\n",
    "\n",
    "for key in x:\n",
    "    x_tensor[key] = tf.convert_to_tensor(x_pca99[key])\n",
    "    y_tensor[key] = tf.convert_to_tensor(y[key])"
   ]
  },
  {
   "cell_type": "code",
   "execution_count": 44,
   "id": "eb5d670c",
   "metadata": {},
   "outputs": [],
   "source": [
    "model = tf.keras.models.Sequential([\n",
    "    tf.keras.layers.Dense(128, activation='relu'),\n",
    "    tf.keras.layers.Dense(10, activation='relu'),\n",
    "    tf.keras.layers.Dense(1)\n",
    "])\n",
    "\n",
    "loss_fn = tf.keras.losses.MeanSquaredError()\n",
    "\n",
    "# Stop training early if no improvement in validation error\n",
    "callbacks = [\n",
    "    keras.callbacks.EarlyStopping(\n",
    "        monitor=\"val_loss\",\n",
    "        min_delta=1e-2,\n",
    "        patience=5 #No improvement for 5 iterations\n",
    "    )\n",
    "]\n",
    "\n",
    "model.compile(optimizer='adam',\n",
    "              loss=loss_fn)"
   ]
  },
  {
   "cell_type": "code",
   "execution_count": 45,
   "id": "b7e260f7",
   "metadata": {},
   "outputs": [
    {
     "name": "stdout",
     "output_type": "stream",
     "text": [
      "Epoch 1/500\n",
      "4/4 [==============================] - 1s 132ms/step - loss: 269.9696 - val_loss: 759.1102\n",
      "Epoch 2/500\n",
      "4/4 [==============================] - 0s 61ms/step - loss: 266.3781 - val_loss: 748.4580\n",
      "Epoch 3/500\n",
      "4/4 [==============================] - 0s 46ms/step - loss: 230.7899 - val_loss: 737.1624\n",
      "Epoch 4/500\n",
      "4/4 [==============================] - 0s 64ms/step - loss: 259.6986 - val_loss: 725.5552\n",
      "Epoch 5/500\n",
      "4/4 [==============================] - 0s 70ms/step - loss: 254.3747 - val_loss: 713.1830\n",
      "Epoch 6/500\n",
      "4/4 [==============================] - 0s 73ms/step - loss: 198.0151 - val_loss: 699.4839\n",
      "Epoch 7/500\n",
      "4/4 [==============================] - 0s 64ms/step - loss: 240.8214 - val_loss: 684.6788\n",
      "Epoch 8/500\n",
      "4/4 [==============================] - 0s 75ms/step - loss: 187.5634 - val_loss: 668.2751\n",
      "Epoch 9/500\n",
      "4/4 [==============================] - 0s 70ms/step - loss: 192.6757 - val_loss: 649.6447\n",
      "Epoch 10/500\n",
      "4/4 [==============================] - 0s 42ms/step - loss: 175.3550 - val_loss: 630.7375\n",
      "Epoch 11/500\n",
      "4/4 [==============================] - 0s 42ms/step - loss: 203.6071 - val_loss: 612.8522\n",
      "Epoch 12/500\n",
      "4/4 [==============================] - 0s 63ms/step - loss: 169.7802 - val_loss: 596.1643\n",
      "Epoch 13/500\n",
      "4/4 [==============================] - 0s 61ms/step - loss: 165.8997 - val_loss: 580.0975\n",
      "Epoch 14/500\n",
      "4/4 [==============================] - 0s 63ms/step - loss: 164.6362 - val_loss: 563.5370\n",
      "Epoch 15/500\n",
      "4/4 [==============================] - 0s 74ms/step - loss: 151.2547 - val_loss: 548.3458\n",
      "Epoch 16/500\n",
      "4/4 [==============================] - 0s 62ms/step - loss: 170.1867 - val_loss: 533.6128\n",
      "Epoch 17/500\n",
      "4/4 [==============================] - 0s 72ms/step - loss: 143.2677 - val_loss: 520.1953\n",
      "Epoch 18/500\n",
      "4/4 [==============================] - 0s 44ms/step - loss: 161.5716 - val_loss: 507.2703\n",
      "Epoch 19/500\n",
      "4/4 [==============================] - 0s 52ms/step - loss: 142.3370 - val_loss: 495.4751\n",
      "Epoch 20/500\n",
      "4/4 [==============================] - 0s 82ms/step - loss: 148.4093 - val_loss: 483.5039\n",
      "Epoch 21/500\n",
      "4/4 [==============================] - 0s 58ms/step - loss: 140.7650 - val_loss: 471.5290\n",
      "Epoch 22/500\n",
      "4/4 [==============================] - 0s 53ms/step - loss: 119.3450 - val_loss: 460.1871\n",
      "Epoch 23/500\n",
      "4/4 [==============================] - 0s 40ms/step - loss: 118.8758 - val_loss: 448.6430\n",
      "Epoch 24/500\n",
      "4/4 [==============================] - 0s 39ms/step - loss: 116.7830 - val_loss: 437.0750\n",
      "Epoch 25/500\n",
      "4/4 [==============================] - 0s 39ms/step - loss: 99.8069 - val_loss: 426.0826\n",
      "Epoch 26/500\n",
      "4/4 [==============================] - 0s 39ms/step - loss: 104.5174 - val_loss: 414.2362\n",
      "Epoch 27/500\n",
      "4/4 [==============================] - 0s 49ms/step - loss: 100.8885 - val_loss: 402.1328\n",
      "Epoch 28/500\n",
      "4/4 [==============================] - 0s 65ms/step - loss: 97.4528 - val_loss: 390.7592\n",
      "Epoch 29/500\n",
      "4/4 [==============================] - 0s 70ms/step - loss: 74.8892 - val_loss: 379.9254\n",
      "Epoch 30/500\n",
      "4/4 [==============================] - 0s 75ms/step - loss: 68.3974 - val_loss: 370.1007\n",
      "Epoch 31/500\n",
      "4/4 [==============================] - 0s 67ms/step - loss: 74.8797 - val_loss: 358.9624\n",
      "Epoch 32/500\n",
      "4/4 [==============================] - 0s 76ms/step - loss: 59.7728 - val_loss: 347.3907\n",
      "Epoch 33/500\n",
      "4/4 [==============================] - 0s 66ms/step - loss: 66.3923 - val_loss: 336.5332\n",
      "Epoch 34/500\n",
      "4/4 [==============================] - 0s 81ms/step - loss: 50.5369 - val_loss: 326.7534\n",
      "Epoch 35/500\n",
      "4/4 [==============================] - 0s 88ms/step - loss: 42.7884 - val_loss: 317.5604\n",
      "Epoch 36/500\n",
      "4/4 [==============================] - 0s 80ms/step - loss: 41.6658 - val_loss: 311.0446\n",
      "Epoch 37/500\n",
      "4/4 [==============================] - 0s 50ms/step - loss: 46.0637 - val_loss: 304.3736\n",
      "Epoch 38/500\n",
      "4/4 [==============================] - 0s 51ms/step - loss: 38.3284 - val_loss: 296.1822\n",
      "Epoch 39/500\n",
      "4/4 [==============================] - 0s 67ms/step - loss: 33.9281 - val_loss: 290.1350\n",
      "Epoch 40/500\n",
      "4/4 [==============================] - 0s 77ms/step - loss: 32.9658 - val_loss: 285.6420\n",
      "Epoch 41/500\n",
      "4/4 [==============================] - 0s 74ms/step - loss: 33.1710 - val_loss: 281.6985\n",
      "Epoch 42/500\n",
      "4/4 [==============================] - 0s 76ms/step - loss: 29.2604 - val_loss: 278.5110\n",
      "Epoch 43/500\n",
      "4/4 [==============================] - 0s 96ms/step - loss: 30.9096 - val_loss: 275.9563\n",
      "Epoch 44/500\n",
      "4/4 [==============================] - 0s 76ms/step - loss: 24.2098 - val_loss: 274.1240\n",
      "Epoch 45/500\n",
      "4/4 [==============================] - 0s 66ms/step - loss: 26.9815 - val_loss: 273.2464\n",
      "Epoch 46/500\n",
      "4/4 [==============================] - 0s 71ms/step - loss: 22.9292 - val_loss: 272.6105\n",
      "Epoch 47/500\n",
      "4/4 [==============================] - 0s 62ms/step - loss: 28.3630 - val_loss: 272.8820\n",
      "Epoch 48/500\n",
      "4/4 [==============================] - 0s 83ms/step - loss: 20.7722 - val_loss: 273.0899\n",
      "Epoch 49/500\n",
      "4/4 [==============================] - 0s 42ms/step - loss: 21.3012 - val_loss: 274.5142\n",
      "Epoch 50/500\n",
      "4/4 [==============================] - 0s 68ms/step - loss: 20.6689 - val_loss: 274.3476\n",
      "Epoch 51/500\n",
      "4/4 [==============================] - 0s 72ms/step - loss: 21.7744 - val_loss: 274.0356\n"
     ]
    },
    {
     "data": {
      "text/plain": [
       "<tensorflow.python.keras.callbacks.History at 0x7fc70c66a640>"
      ]
     },
     "execution_count": 45,
     "metadata": {},
     "output_type": "execute_result"
    }
   ],
   "source": [
    "model.fit(\n",
    "    x_tensor[\"train_val\"], \n",
    "    y_tensor[\"train_val\"], \n",
    "    validation_split=0.25, \n",
    "    callbacks=callbacks,\n",
    "    epochs=500)"
   ]
  },
  {
   "cell_type": "code",
   "execution_count": 46,
   "id": "54b6e9f3",
   "metadata": {},
   "outputs": [
    {
     "data": {
      "text/plain": [
       "0.23575353846105263"
      ]
     },
     "execution_count": 46,
     "metadata": {},
     "output_type": "execute_result"
    }
   ],
   "source": [
    "r2_score(y_tensor[\"test\"].numpy(), model.predict(x_tensor[\"test\"]).reshape(-1))"
   ]
  },
  {
   "cell_type": "code",
   "execution_count": null,
   "id": "0419738f",
   "metadata": {},
   "outputs": [],
   "source": []
  }
 ],
 "metadata": {
  "kernelspec": {
   "display_name": "apm",
   "language": "python",
   "name": "apm"
  },
  "language_info": {
   "codemirror_mode": {
    "name": "ipython",
    "version": 3
   },
   "file_extension": ".py",
   "mimetype": "text/x-python",
   "name": "python",
   "nbconvert_exporter": "python",
   "pygments_lexer": "ipython3",
   "version": "3.9.7"
  }
 },
 "nbformat": 4,
 "nbformat_minor": 5
}
