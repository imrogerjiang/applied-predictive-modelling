{
 "cells": [
  {
   "cell_type": "markdown",
   "id": "913c9eca",
   "metadata": {},
   "source": [
    "## 7.4\n",
    "\n",
    "Return to the permeability problem outlined in Exercise 6.2. Train several nonlinear regression models and evaluate the resampling and test set performance.\n",
    "\n",
    "**(a)** Which nonlinear regression model gives the optimal resampling and test set performance?\n",
    "\n",
    "**(b)** Do any of the nonlinear models outperform the optimal linear model you previously developed in Exercise 6.2? If so, what might this tell you about the underlying relationship between the predictors and the response?\n",
    "\n",
    "**(c)** Would you recommend any of the models you have developed to replace the permeability laboratory experiment?"
   ]
  },
  {
   "cell_type": "code",
   "execution_count": 127,
   "id": "da5329f6",
   "metadata": {},
   "outputs": [],
   "source": [
    "import numpy as np\n",
    "import pandas as pd\n",
    "from sklearn.metrics import r2_score, mean_squared_error\n",
    "from sklearn.svm import SVR\n",
    "from matplotlib import pyplot as plt\n",
    "from matplotlib import cm\n",
    "from pyearth import Earth\n",
    "import tensorflow as tf\n",
    "from tensorflow import keras"
   ]
  },
  {
   "cell_type": "code",
   "execution_count": 2,
   "id": "2e51efa7",
   "metadata": {},
   "outputs": [],
   "source": [
    "from sklearn.model_selection import train_test_split\n",
    "\n",
    "def split_data(df, target, val_size=0.2, test_size=0.2, drop_columns=[]):\n",
    "    x={}\n",
    "    y={}\n",
    "    \n",
    "    train_val, test = train_test_split(df, test_size=test_size)\n",
    "    train, val = train_test_split(train_val, test_size=val_size/(1-test_size))\n",
    "    ds = {}\n",
    "    x[\"train\"] = train.drop(columns=[target]+drop_columns)\n",
    "    x[\"val\"] = val.drop(columns=[target]+drop_columns)\n",
    "    x[\"train_val\"] = train_val.drop(columns=[target]+drop_columns)\n",
    "    x[\"test\"] = test.drop(columns=[target]+drop_columns)\n",
    "    y[\"train\"] = train[target]\n",
    "    y[\"val\"] = val[target]\n",
    "    y[\"train_val\"] = train_val[target]\n",
    "    y[\"test\"] = test[target]\n",
    "    \n",
    "    return x,y"
   ]
  },
  {
   "cell_type": "code",
   "execution_count": 39,
   "id": "a1843ebb",
   "metadata": {},
   "outputs": [],
   "source": [
    "fingerprints = pd.read_csv(\"data/fingerprints.csv\", index_col=\"ID\", header=0)\n",
    "permeability = pd.read_csv(\"data/permeability.csv\", index_col=\"ID\", header=0)\n",
    "\n",
    "data = pd.concat([fingerprints, permeability], axis=\"columns\")\n",
    "x, y = split_data(data, \"permeability\")"
   ]
  },
  {
   "cell_type": "code",
   "execution_count": null,
   "id": "39687828",
   "metadata": {},
   "outputs": [],
   "source": [
    "# Non-linear regression models\n",
    "# Neural Networks\n",
    "# - Implement a single example of nn regressor\n",
    "# - Implement cross validation for nn\n",
    "# - Test cross validation for baseline architecture\n",
    "# - Google and implement better architectures.\n",
    "# - Preprocessing\n",
    "\n",
    "# MARS\n",
    "# SVM\n",
    "# KNN"
   ]
  },
  {
   "cell_type": "code",
   "execution_count": 40,
   "id": "174c25bf",
   "metadata": {},
   "outputs": [],
   "source": [
    "x_tensor, y_tensor = {}, {}\n",
    "\n",
    "for key in x:\n",
    "    x_tensor[key] = tf.convert_to_tensor(x[key])\n",
    "    y_tensor[key] = tf.convert_to_tensor(y[key])"
   ]
  },
  {
   "cell_type": "code",
   "execution_count": 131,
   "id": "ae72145e",
   "metadata": {},
   "outputs": [],
   "source": [
    "model = tf.keras.models.Sequential([\n",
    "    tf.keras.layers.Dense(128, activation='relu'),\n",
    "    tf.keras.layers.Dense(10, activation='relu'),\n",
    "    tf.keras.layers.Dense(1)\n",
    "])"
   ]
  },
  {
   "cell_type": "code",
   "execution_count": 132,
   "id": "3183a00a",
   "metadata": {},
   "outputs": [],
   "source": [
    "loss_fn = tf.keras.losses.MeanSquaredError()"
   ]
  },
  {
   "cell_type": "code",
   "execution_count": 133,
   "id": "f53f0772",
   "metadata": {},
   "outputs": [],
   "source": [
    "callbacks = [\n",
    "    keras.callbacks.EarlyStopping(\n",
    "        monitor=\"val_loss\",\n",
    "        min_delta=1e-2,\n",
    "        patience=5\n",
    "    )\n",
    "]"
   ]
  },
  {
   "cell_type": "code",
   "execution_count": 134,
   "id": "000eeb44",
   "metadata": {},
   "outputs": [],
   "source": [
    "model.compile(optimizer='adam',\n",
    "              loss=loss_fn)"
   ]
  },
  {
   "cell_type": "code",
   "execution_count": 135,
   "id": "295fe375",
   "metadata": {
    "scrolled": true
   },
   "outputs": [
    {
     "name": "stdout",
     "output_type": "stream",
     "text": [
      "Epoch 1/500\n",
      "4/4 [==============================] - 1s 73ms/step - loss: 420.5274 - val_loss: 385.3857\n",
      "Epoch 2/500\n",
      "4/4 [==============================] - 0s 27ms/step - loss: 301.1281 - val_loss: 356.9348\n",
      "Epoch 3/500\n",
      "4/4 [==============================] - 0s 30ms/step - loss: 290.5624 - val_loss: 329.0930\n",
      "Epoch 4/500\n",
      "4/4 [==============================] - 0s 30ms/step - loss: 272.4350 - val_loss: 307.1940\n",
      "Epoch 5/500\n",
      "4/4 [==============================] - 0s 37ms/step - loss: 235.1666 - val_loss: 293.2509\n",
      "Epoch 6/500\n",
      "4/4 [==============================] - 0s 28ms/step - loss: 217.5559 - val_loss: 286.8084\n",
      "Epoch 7/500\n",
      "4/4 [==============================] - 0s 30ms/step - loss: 210.7510 - val_loss: 282.1175\n",
      "Epoch 8/500\n",
      "4/4 [==============================] - 0s 32ms/step - loss: 207.9031 - val_loss: 277.4957\n",
      "Epoch 9/500\n",
      "4/4 [==============================] - 0s 33ms/step - loss: 199.5680 - val_loss: 267.5326\n",
      "Epoch 10/500\n",
      "4/4 [==============================] - 0s 37ms/step - loss: 238.1153 - val_loss: 256.4176\n",
      "Epoch 11/500\n",
      "4/4 [==============================] - 0s 30ms/step - loss: 189.5261 - val_loss: 245.1249\n",
      "Epoch 12/500\n",
      "4/4 [==============================] - 0s 30ms/step - loss: 189.9091 - val_loss: 232.8926\n",
      "Epoch 13/500\n",
      "4/4 [==============================] - 0s 25ms/step - loss: 174.2699 - val_loss: 222.3010\n",
      "Epoch 14/500\n",
      "4/4 [==============================] - 0s 25ms/step - loss: 164.6690 - val_loss: 213.6565\n",
      "Epoch 15/500\n",
      "4/4 [==============================] - 0s 27ms/step - loss: 148.1099 - val_loss: 206.7320\n",
      "Epoch 16/500\n",
      "4/4 [==============================] - 0s 32ms/step - loss: 142.5366 - val_loss: 200.3224\n",
      "Epoch 17/500\n",
      "4/4 [==============================] - 0s 31ms/step - loss: 159.0534 - val_loss: 195.0064\n",
      "Epoch 18/500\n",
      "4/4 [==============================] - 0s 29ms/step - loss: 161.3227 - val_loss: 190.4866\n",
      "Epoch 19/500\n",
      "4/4 [==============================] - 0s 27ms/step - loss: 131.7050 - val_loss: 186.6581\n",
      "Epoch 20/500\n",
      "4/4 [==============================] - 0s 26ms/step - loss: 144.8006 - val_loss: 183.2893\n",
      "Epoch 21/500\n",
      "4/4 [==============================] - 0s 28ms/step - loss: 116.3283 - val_loss: 179.2742\n",
      "Epoch 22/500\n",
      "4/4 [==============================] - 0s 28ms/step - loss: 132.2429 - val_loss: 174.3723\n",
      "Epoch 23/500\n",
      "4/4 [==============================] - 0s 27ms/step - loss: 100.1159 - val_loss: 168.3484\n",
      "Epoch 24/500\n",
      "4/4 [==============================] - 0s 35ms/step - loss: 114.4245 - val_loss: 164.7197\n",
      "Epoch 25/500\n",
      "4/4 [==============================] - 0s 35ms/step - loss: 99.8558 - val_loss: 160.6545\n",
      "Epoch 26/500\n",
      "4/4 [==============================] - 0s 36ms/step - loss: 109.2741 - val_loss: 154.3432\n",
      "Epoch 27/500\n",
      "4/4 [==============================] - 0s 29ms/step - loss: 101.0851 - val_loss: 149.5468\n",
      "Epoch 28/500\n",
      "4/4 [==============================] - 0s 30ms/step - loss: 97.2218 - val_loss: 148.1700\n",
      "Epoch 29/500\n",
      "4/4 [==============================] - 0s 29ms/step - loss: 95.9377 - val_loss: 147.1600\n",
      "Epoch 30/500\n",
      "4/4 [==============================] - 0s 28ms/step - loss: 89.7448 - val_loss: 145.3316\n",
      "Epoch 31/500\n",
      "4/4 [==============================] - 0s 32ms/step - loss: 90.6071 - val_loss: 141.1074\n",
      "Epoch 32/500\n",
      "4/4 [==============================] - 0s 31ms/step - loss: 81.4131 - val_loss: 140.7803\n",
      "Epoch 33/500\n",
      "4/4 [==============================] - 0s 26ms/step - loss: 78.3226 - val_loss: 141.2007\n",
      "Epoch 34/500\n",
      "4/4 [==============================] - 0s 29ms/step - loss: 81.2980 - val_loss: 142.0787\n",
      "Epoch 35/500\n",
      "4/4 [==============================] - 0s 27ms/step - loss: 70.0649 - val_loss: 141.5987\n",
      "Epoch 36/500\n",
      "4/4 [==============================] - 0s 34ms/step - loss: 77.9849 - val_loss: 142.0344\n",
      "Epoch 37/500\n",
      "4/4 [==============================] - 0s 28ms/step - loss: 74.3877 - val_loss: 141.2915\n"
     ]
    },
    {
     "data": {
      "text/plain": [
       "<tensorflow.python.keras.callbacks.History at 0x7fa28cbb1a00>"
      ]
     },
     "execution_count": 135,
     "metadata": {},
     "output_type": "execute_result"
    }
   ],
   "source": [
    "model.fit(\n",
    "    x_tensor[\"train_val\"], \n",
    "    y_tensor[\"train_val\"], \n",
    "    validation_split=0.2, \n",
    "    callbacks=callbacks,\n",
    "    epochs=500)"
   ]
  },
  {
   "cell_type": "code",
   "execution_count": 136,
   "id": "65ff1d5d",
   "metadata": {},
   "outputs": [
    {
     "data": {
      "text/plain": [
       "0.3983113014487961"
      ]
     },
     "execution_count": 136,
     "metadata": {},
     "output_type": "execute_result"
    }
   ],
   "source": [
    "r2_score(y_tensor[\"test\"].numpy(), model.predict(x_tensor[\"test\"]).reshape(-1))"
   ]
  },
  {
   "cell_type": "code",
   "execution_count": 137,
   "id": "02642669",
   "metadata": {},
   "outputs": [
    {
     "data": {
      "text/plain": [
       "11.872260667526938"
      ]
     },
     "execution_count": 137,
     "metadata": {},
     "output_type": "execute_result"
    }
   ],
   "source": [
    "mean_squared_error(y_tensor[\"test\"].numpy(), model.predict(x_tensor[\"test\"]).reshape(-1))**0.5"
   ]
  },
  {
   "cell_type": "code",
   "execution_count": null,
   "id": "70310e4c",
   "metadata": {},
   "outputs": [],
   "source": []
  }
 ],
 "metadata": {
  "kernelspec": {
   "display_name": "apm",
   "language": "python",
   "name": "apm"
  },
  "language_info": {
   "codemirror_mode": {
    "name": "ipython",
    "version": 3
   },
   "file_extension": ".py",
   "mimetype": "text/x-python",
   "name": "python",
   "nbconvert_exporter": "python",
   "pygments_lexer": "ipython3",
   "version": "3.9.7"
  }
 },
 "nbformat": 4,
 "nbformat_minor": 5
}
