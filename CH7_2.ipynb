{
 "cells": [
  {
   "cell_type": "code",
   "execution_count": 1,
   "id": "00774908",
   "metadata": {},
   "outputs": [],
   "source": [
    "import numpy as np\n",
    "import pandas as pd\n",
    "from sklearn.svm import SVR\n",
    "from matplotlib import pyplot as plt\n",
    "from matplotlib import cm\n",
    "from pyearth import Earth\n",
    "import"
   ]
  },
  {
   "cell_type": "code",
   "execution_count": 45,
   "id": "6cd81aba",
   "metadata": {},
   "outputs": [],
   "source": [
    "from sklearn.model_selection import train_test_split\n",
    "\n",
    "def split_data(df, target, val_size=0.2, test_size=0.2, drop_columns=[]):\n",
    "    x={}\n",
    "    y={}\n",
    "    \n",
    "    train_val, test = train_test_split(df, test_size=test_size)\n",
    "    train, val = train_test_split(train_val, test_size=val_size/(1-test_size))\n",
    "    ds = {}\n",
    "    x[\"train\"] = train.drop(columns=[target]+drop_columns)\n",
    "    x[\"val\"] = val.drop(columns=[target]+drop_columns)\n",
    "    x[\"train_val\"] = train_val.drop(columns=[target]+drop_columns)\n",
    "    x[\"test\"] = test.drop(columns=[target]+drop_columns)\n",
    "    y[\"train\"] = train[target]\n",
    "    y[\"val\"] = val[target]\n",
    "    y[\"train_val\"] = train_val[target]\n",
    "    y[\"test\"] = test[target]\n",
    "    \n",
    "    return x,y"
   ]
  },
  {
   "cell_type": "code",
   "execution_count": 28,
   "id": "a1946dea",
   "metadata": {},
   "outputs": [],
   "source": [
    "# MARS\n",
    "# SVR\n",
    "# KNN\n",
    "# Creating synthetic data\n",
    "np.random.seed(seed=12345)\n",
    "df = pd.DataFrame(np.random.uniform(size=(200,10)), columns = [f\"x{i+1}\" for i in range(10)])\n",
    "df[\"error\"] = np.random.normal(size=200)\n",
    "df[\"target\"] = (\n",
    "    10*np.sin(np.pi*df[\"x1\"]*df[\"x2\"]) +\n",
    "    20*(df[\"x3\"]-0.5)**2 + \n",
    "    10*df[\"x4\"] + \n",
    "    5*df[\"x5\"] +\n",
    "    df[\"error\"])\n",
    "X = df.drop(columns=[\"target\", \"error\"])\n",
    "y = df[\"target\"]"
   ]
  },
  {
   "cell_type": "code",
   "execution_count": 46,
   "id": "5608a235",
   "metadata": {},
   "outputs": [],
   "source": [
    "x, y=split_data(df, \"target\", drop_columns=[\"error\"])"
   ]
  },
  {
   "cell_type": "code",
   "execution_count": 85,
   "id": "66a15588",
   "metadata": {},
   "outputs": [
    {
     "name": "stderr",
     "output_type": "stream",
     "text": [
      "/home/roger/.conda/envs/apm/lib/python3.9/site-packages/pyearth/earth.py:813: FutureWarning: `rcond` parameter will change to the default of machine precision times ``max(M, N)`` where M and N are the input matrix dimensions.\n",
      "To use the future default and silence this warning we advise to pass `rcond=None`, to keep using the old, explicitly pass `rcond=-1`.\n",
      "  pruning_passer.run()\n",
      "/home/roger/.conda/envs/apm/lib/python3.9/site-packages/pyearth/earth.py:1066: FutureWarning: `rcond` parameter will change to the default of machine precision times ``max(M, N)`` where M and N are the input matrix dimensions.\n",
      "To use the future default and silence this warning we advise to pass `rcond=None`, to keep using the old, explicitly pass `rcond=-1`.\n",
      "  coef, resid = np.linalg.lstsq(B, weighted_y[:, i])[0:2]\n"
     ]
    },
    {
     "data": {
      "text/plain": [
       "0.8671522399376402"
      ]
     },
     "execution_count": 85,
     "metadata": {},
     "output_type": "execute_result"
    }
   ],
   "source": [
    "mars = Earth(feature_importance_type='gcv')\n",
    "mars.fit(x[\"train_val\"], y[\"train_val\"])\n",
    "mars.score(x[\"test\"], y[\"test\"])"
   ]
  },
  {
   "cell_type": "code",
   "execution_count": 88,
   "id": "633882dd",
   "metadata": {},
   "outputs": [
    {
     "data": {
      "image/png": "[encoded data removed]",
      "text/plain": [
       "<Figure size 432x288 with 1 Axes>"
      ]
     },
     "metadata": {
      "needs_background": "light"
     },
     "output_type": "display_data"
    }
   ],
   "source": [
    "plt.scatter(mars.predict(x[\"test\"]), y[\"test\"])\n",
    "plt.show()"
   ]
  },
  {
   "cell_type": "code",
   "execution_count": 87,
   "id": "c5c10eb7",
   "metadata": {},
   "outputs": [
    {
     "name": "stdout",
     "output_type": "stream",
     "text": [
      "Earth Model\n",
      "-------------------------------------\n",
      "Basis Function  Pruned  Coefficient  \n",
      "-------------------------------------\n",
      "(Intercept)     No      -14.7627     \n",
      "x4              Yes     None         \n",
      "h(x1-0.613266)  Yes     None         \n",
      "h(0.613266-x1)  Yes     None         \n",
      "h(x2-0.573879)  Yes     None         \n",
      "h(0.573879-x2)  Yes     None         \n",
      "h(x3-0.49255)   No      10.5864      \n",
      "h(0.49255-x3)   No      10.2626      \n",
      "x5              Yes     None         \n",
      "h(x1-0.195795)  No      5.20988      \n",
      "h(0.195795-x1)  No      -25.7418     \n",
      "h(x5-0.670874)  No      -14.9477     \n",
      "h(0.670874-x5)  Yes     None         \n",
      "h(x5-0.888561)  Yes     None         \n",
      "h(0.888561-x5)  No      48.0599      \n",
      "x9              Yes     None         \n",
      "h(x4-0.803585)  Yes     None         \n",
      "h(0.803585-x4)  Yes     None         \n",
      "h(x2-0.521645)  Yes     None         \n",
      "h(0.521645-x2)  No      -12.5043     \n",
      "h(x5-0.291053)  No      95.2904      \n",
      "h(0.291053-x5)  Yes     None         \n",
      "h(x5-0.324602)  Yes     None         \n",
      "h(0.324602-x5)  No      -60.9894     \n",
      "h(x5-0.192922)  No      -39.3214     \n",
      "h(0.192922-x5)  Yes     None         \n",
      "h(x4-0.359707)  Yes     None         \n",
      "h(0.359707-x4)  No      -11.3829     \n",
      "h(x4-0.256132)  Yes     None         \n",
      "h(0.256132-x4)  Yes     None         \n",
      "h(x4-0.414092)  No      10.2184      \n",
      "h(0.414092-x4)  Yes     None         \n",
      "h(x5-0.469398)  Yes     None         \n",
      "h(0.469398-x5)  Yes     None         \n",
      "h(x9-0.101526)  Yes     None         \n",
      "h(0.101526-x9)  Yes     None         \n",
      "h(x5-0.441357)  Yes     None         \n",
      "h(0.441357-x5)  Yes     None         \n",
      "-------------------------------------\n",
      "MSE: 2.7324, GCV: 4.2034, RSQ: 0.8975, GRSQ: 0.8443\n"
     ]
    }
   ],
   "source": [
    "print(mars.summary())"
   ]
  },
  {
   "cell_type": "code",
   "execution_count": 86,
   "id": "85f86b70",
   "metadata": {},
   "outputs": [
    {
     "name": "stdout",
     "output_type": "stream",
     "text": [
      "        gcv\n",
      "x4      0.48   \n",
      "x1      0.26   \n",
      "x2      0.16   \n",
      "x3      0.11   \n",
      "x10     0.00   \n",
      "x9      0.00   \n",
      "x8      0.00   \n",
      "x7      0.00   \n",
      "x6      0.00   \n",
      "x5      0.00   \n",
      "\n"
     ]
    }
   ],
   "source": [
    "print(mars.summary_feature_importances(sort_by=\"gcv\"))"
   ]
  },
  {
   "cell_type": "code",
   "execution_count": 82,
   "id": "6c43b385",
   "metadata": {},
   "outputs": [],
   "source": [
    "# SVR\n",
    "epsilon = 0.5 # np.geomspace(0.1, 5, num=10)\n",
    "cost = 1 # np.geomspace(0.1, 10, num=10)\n",
    "\n",
    "scores={}\n",
    "\n",
    "for epsilon in np.geomspace(0.01, 5, num=10):\n",
    "    for cost in np.geomspace(1, 20, num=10):\n",
    "        svr = SVR(kernel=\"rbf\", C=cost, epsilon=epsilon)\n",
    "        svr.fit(X=x[\"train\"], y=y[\"train\"])\n",
    "        scores[(epsilon, cost)] = svr.score(X=x['val'], y=y['val'])\n",
    "        \n",
    "best_epsilon, best_cost = max(scores, key=scores.get)"
   ]
  },
  {
   "cell_type": "code",
   "execution_count": 83,
   "id": "ee7e8246",
   "metadata": {},
   "outputs": [
    {
     "data": {
      "text/plain": [
       "0.8126577178915939"
      ]
     },
     "execution_count": 83,
     "metadata": {},
     "output_type": "execute_result"
    }
   ],
   "source": [
    "svr=SVR(kernel=\"rbf\", C=best_cost, epsilon=best_epsilon)\n",
    "svr.fit(X=x[\"train_val\"], y=y[\"train_val\"])\n",
    "svr.score(X=x['test'], y=y['test'])"
   ]
  },
  {
   "cell_type": "code",
   "execution_count": null,
   "id": "f03a7129",
   "metadata": {},
   "outputs": [],
   "source": []
  }
 ],
 "metadata": {
  "kernelspec": {
   "display_name": "apm",
   "language": "python",
   "name": "apm"
  },
  "language_info": {
   "codemirror_mode": {
    "name": "ipython",
    "version": 3
   },
   "file_extension": ".py",
   "mimetype": "text/x-python",
   "name": "python",
   "nbconvert_exporter": "python",
   "pygments_lexer": "ipython3",
   "version": "3.9.7"
  }
 },
 "nbformat": 4,
 "nbformat_minor": 5
}
