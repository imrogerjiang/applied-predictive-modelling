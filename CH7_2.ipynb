{
 "cells": [
  {
   "cell_type": "code",
   "execution_count": 5,
   "id": "1b1e56f0",
   "metadata": {},
   "outputs": [],
   "source": [
    "import numpy as np\n",
    "import pandas as pd\n",
    "from sklearn.svm import SVR\n",
    "from sklearn.neighbors import KNeighborsRegressor\n",
    "from matplotlib import pyplot as plt\n",
    "from matplotlib import cm\n",
    "from pyearth import Earth"
   ]
  },
  {
   "cell_type": "markdown",
   "id": "a1ab5f2d",
   "metadata": {},
   "source": [
    "## 7.2\n",
    "\n",
    "Friedman 1991 introduced several benchmark data sets create by simulation. One of these simulations used the following nonlinear equation to create data\n",
    "\n",
    "$$\n",
    "y = 10\\sin(\\pi x_{1}x_{2}) + 20(x_{3} - 0.5)^{2} + 10x_{4} + 5x_{5} + N(0, \\sigma^{2})\n",
    "$$\n",
    "\n",
    "where the $x_{i} \\sim U[0,1]$ (there are also 5 other non-informative variables also created in the simulation). \n",
    "    \n",
    "**(a) Which models appear to give the best performance? Does MARS select the informative predictors (those named X1–X5)?**\n",
    "\n",
    "\n",
    "\n"
   ]
  },
  {
   "cell_type": "code",
   "execution_count": 6,
   "id": "a7de7c9a",
   "metadata": {},
   "outputs": [],
   "source": [
    "from sklearn.model_selection import train_test_split\n",
    "\n",
    "def split_data(df, target, val_size=0.2, test_size=0.2, drop_columns=[]):\n",
    "    x={}\n",
    "    y={}\n",
    "    \n",
    "    train_val, test = train_test_split(df, test_size=test_size)\n",
    "    train, val = train_test_split(train_val, test_size=val_size/(1-test_size))\n",
    "    ds = {}\n",
    "    x[\"train\"] = train.drop(columns=[target]+drop_columns)\n",
    "    x[\"val\"] = val.drop(columns=[target]+drop_columns)\n",
    "    x[\"train_val\"] = train_val.drop(columns=[target]+drop_columns)\n",
    "    x[\"test\"] = test.drop(columns=[target]+drop_columns)\n",
    "    y[\"train\"] = train[target]\n",
    "    y[\"val\"] = val[target]\n",
    "    y[\"train_val\"] = train_val[target]\n",
    "    y[\"test\"] = test[target]\n",
    "    \n",
    "    return x,y"
   ]
  },
  {
   "cell_type": "code",
   "execution_count": 7,
   "id": "100568b0",
   "metadata": {},
   "outputs": [],
   "source": [
    "# MARS\n",
    "# SVR\n",
    "# KNN\n",
    "# Creating synthetic data\n",
    "np.random.seed(seed=12345)\n",
    "df = pd.DataFrame(np.random.uniform(size=(200,10)), columns = [f\"x{i+1}\" for i in range(10)])\n",
    "df[\"error\"] = np.random.normal(size=200)\n",
    "df[\"target\"] = (\n",
    "    10*np.sin(np.pi*df[\"x1\"]*df[\"x2\"]) +\n",
    "    20*(df[\"x3\"]-0.5)**2 + \n",
    "    10*df[\"x4\"] + \n",
    "    5*df[\"x5\"] +\n",
    "    df[\"error\"])\n",
    "X = df.drop(columns=[\"target\", \"error\"])\n",
    "y = df[\"target\"]"
   ]
  },
  {
   "cell_type": "code",
   "execution_count": 8,
   "id": "8c5f757f",
   "metadata": {},
   "outputs": [],
   "source": [
    "x, y=split_data(df, \"target\", drop_columns=[\"error\"])"
   ]
  },
  {
   "cell_type": "code",
   "execution_count": 9,
   "id": "13505387",
   "metadata": {},
   "outputs": [
    {
     "name": "stderr",
     "output_type": "stream",
     "text": [
      "/home/roger/anaconda3/envs/coursera/lib/python3.9/site-packages/pyearth/earth.py:813: FutureWarning: `rcond` parameter will change to the default of machine precision times ``max(M, N)`` where M and N are the input matrix dimensions.\n",
      "To use the future default and silence this warning we advise to pass `rcond=None`, to keep using the old, explicitly pass `rcond=-1`.\n",
      "  pruning_passer.run()\n",
      "/home/roger/anaconda3/envs/coursera/lib/python3.9/site-packages/pyearth/earth.py:1066: FutureWarning: `rcond` parameter will change to the default of machine precision times ``max(M, N)`` where M and N are the input matrix dimensions.\n",
      "To use the future default and silence this warning we advise to pass `rcond=None`, to keep using the old, explicitly pass `rcond=-1`.\n",
      "  coef, resid = np.linalg.lstsq(B, weighted_y[:, i])[0:2]\n"
     ]
    },
    {
     "data": {
      "text/plain": [
       "0.8855066186627008"
      ]
     },
     "execution_count": 9,
     "metadata": {},
     "output_type": "execute_result"
    }
   ],
   "source": [
    "mars = Earth(feature_importance_type='gcv')\n",
    "mars.fit(x[\"train_val\"], y[\"train_val\"])\n",
    "mars.score(x[\"test\"], y[\"test\"])"
   ]
  },
  {
   "cell_type": "code",
   "execution_count": 10,
   "id": "f56df362",
   "metadata": {},
   "outputs": [
    {
     "data": {
      "image/png": "[encoded data removed]",
      "text/plain": [
       "<Figure size 432x288 with 1 Axes>"
      ]
     },
     "metadata": {
      "needs_background": "light"
     },
     "output_type": "display_data"
    }
   ],
   "source": [
    "plt.scatter(mars.predict(x[\"test\"]), y[\"test\"])\n",
    "plt.show()"
   ]
  },
  {
   "cell_type": "code",
   "execution_count": 11,
   "id": "41fba748",
   "metadata": {},
   "outputs": [
    {
     "name": "stdout",
     "output_type": "stream",
     "text": [
      "Earth Model\n",
      "-------------------------------------\n",
      "Basis Function  Pruned  Coefficient  \n",
      "-------------------------------------\n",
      "(Intercept)     No      8.79555      \n",
      "x4              No      9.64184      \n",
      "h(x1-0.613266)  Yes     None         \n",
      "h(0.613266-x1)  Yes     None         \n",
      "h(x2-0.573879)  Yes     None         \n",
      "h(0.573879-x2)  Yes     None         \n",
      "h(x3-0.49255)   No      10.3327      \n",
      "h(0.49255-x3)   No      10.502       \n",
      "x5              Yes     None         \n",
      "h(x1-0.195795)  No      4.81044      \n",
      "h(0.195795-x1)  No      -26.9557     \n",
      "h(x5-0.670874)  Yes     None         \n",
      "h(0.670874-x5)  No      -5.75468     \n",
      "h(x5-0.888561)  No      25.2934      \n",
      "h(0.888561-x5)  Yes     None         \n",
      "x9              Yes     None         \n",
      "h(x4-0.803585)  Yes     None         \n",
      "h(0.803585-x4)  Yes     None         \n",
      "h(x2-0.521645)  Yes     None         \n",
      "h(0.521645-x2)  No      -12.4131     \n",
      "h(x5-0.291053)  Yes     None         \n",
      "h(0.291053-x5)  Yes     None         \n",
      "h(x5-0.324602)  Yes     None         \n",
      "h(0.324602-x5)  Yes     None         \n",
      "h(x5-0.192922)  Yes     None         \n",
      "h(0.192922-x5)  Yes     None         \n",
      "h(x4-0.359707)  Yes     None         \n",
      "h(0.359707-x4)  Yes     None         \n",
      "h(x4-0.256132)  Yes     None         \n",
      "h(0.256132-x4)  Yes     None         \n",
      "h(x4-0.414092)  Yes     None         \n",
      "h(0.414092-x4)  Yes     None         \n",
      "h(x5-0.469398)  Yes     None         \n",
      "h(0.469398-x5)  Yes     None         \n",
      "h(x9-0.101526)  Yes     None         \n",
      "h(0.101526-x9)  Yes     None         \n",
      "h(x5-0.441357)  Yes     None         \n",
      "h(0.441357-x5)  Yes     None         \n",
      "-------------------------------------\n",
      "MSE: 3.0703, GCV: 4.0681, RSQ: 0.8848, GRSQ: 0.8493\n"
     ]
    }
   ],
   "source": [
    "print(mars.summary())\n",
    "\n",
    "# x4\n",
    "# x3\n",
    "# x1\n",
    "# x5\n",
    "# x2"
   ]
  },
  {
   "cell_type": "code",
   "execution_count": 12,
   "id": "d99483ee",
   "metadata": {},
   "outputs": [
    {
     "name": "stdout",
     "output_type": "stream",
     "text": [
      "        gcv\n",
      "x4      0.43   \n",
      "x1      0.27   \n",
      "x2      0.20   \n",
      "x3      0.10   \n",
      "x10     0.00   \n",
      "x9      0.00   \n",
      "x8      0.00   \n",
      "x7      0.00   \n",
      "x6      0.00   \n",
      "x5      0.00   \n",
      "\n"
     ]
    }
   ],
   "source": [
    "print(mars.summary_feature_importances(sort_by=\"gcv\"))"
   ]
  },
  {
   "cell_type": "code",
   "execution_count": 13,
   "id": "17ea1a39",
   "metadata": {},
   "outputs": [],
   "source": [
    "# SVR\n",
    "scores={}\n",
    "\n",
    "for epsilon in np.geomspace(0.01, 20, num=10):\n",
    "    for cost in np.geomspace(0.01, 20, num=10):\n",
    "        svr = SVR(kernel=\"rbf\", C=cost, epsilon=epsilon)\n",
    "        svr.fit(X=x[\"train\"], y=y[\"train\"])\n",
    "        scores[(epsilon, cost)] = svr.score(X=x['val'], y=y['val'])\n",
    "        \n",
    "best_epsilon, best_cost = max(scores, key=scores.get)"
   ]
  },
  {
   "cell_type": "code",
   "execution_count": 14,
   "id": "710e3f5e",
   "metadata": {},
   "outputs": [],
   "source": [
    "e, c, r2 = [], [], []\n",
    "for a, b in scores:\n",
    "    e.append(a)\n",
    "    c.append(b)\n",
    "    r2.append(scores[(a, b)])\n",
    "\n",
    "#Normalising scores between 0 to 1.\n",
    "r3 = [(min(r2)-i)/(max(r2)-min(r2))+1 for i in r2]"
   ]
  },
  {
   "cell_type": "code",
   "execution_count": 15,
   "id": "1b3a759a",
   "metadata": {
    "scrolled": true
   },
   "outputs": [
    {
     "data": {
      "image/png": "[encoded data removed]",
      "text/plain": [
       "<Figure size 432x288 with 1 Axes>"
      ]
     },
     "metadata": {
      "needs_background": "light"
     },
     "output_type": "display_data"
    }
   ],
   "source": [
    "plt.scatter(x=e, y=c, color=cm.summer(r3))\n",
    "plt.xlabel('Epsilon')\n",
    "plt.ylabel('Cost')\n",
    "plt.xscale('log')\n",
    "plt.yscale('log')\n",
    "plt.show()"
   ]
  },
  {
   "cell_type": "code",
   "execution_count": 16,
   "id": "33e9b47d",
   "metadata": {},
   "outputs": [
    {
     "data": {
      "text/plain": [
       "0.8061249317423191"
      ]
     },
     "execution_count": 16,
     "metadata": {},
     "output_type": "execute_result"
    }
   ],
   "source": [
    "svr=SVR(kernel=\"rbf\", C=best_cost, epsilon=best_epsilon)\n",
    "svr.fit(X=x[\"train_val\"], y=y[\"train_val\"])\n",
    "svr.score(X=x['test'], y=y['test'])"
   ]
  },
  {
   "cell_type": "code",
   "execution_count": 17,
   "id": "70b5be74",
   "metadata": {},
   "outputs": [
    {
     "data": {
      "text/plain": [
       "0.4410992753709"
      ]
     },
     "execution_count": 17,
     "metadata": {},
     "output_type": "execute_result"
    }
   ],
   "source": [
    "#KNN\n",
    "n_neighbors = 5\n",
    "weights=\"uniform\"\n",
    "\n",
    "\n",
    "knn = KNeighborsRegressor(n_neighbors=n_neighbors, weights=weights)\n",
    "knn.fit(X=x[\"train_val\"], y=y[\"train_val\"])\n",
    "knn.score(X=x[\"test\"], y=y[\"test\"])"
   ]
  },
  {
   "cell_type": "code",
   "execution_count": 18,
   "id": "5f49faca",
   "metadata": {},
   "outputs": [
    {
     "data": {
      "text/plain": [
       "0.5656449413061868"
      ]
     },
     "execution_count": 18,
     "metadata": {},
     "output_type": "execute_result"
    }
   ],
   "source": [
    "scores={}\n",
    "\n",
    "for weights in [\"uniform\", \"distance\"]:\n",
    "    for n_neighbors in range(1, 21):\n",
    "        knn = KNeighborsRegressor(n_neighbors=n_neighbors, weights=weights)\n",
    "        knn.fit(X=x[\"train\"], y=y[\"train\"])\n",
    "        scores[(weights, n_neighbors)] = knn.score(X=x[\"val\"], y=y[\"val\"])\n",
    "        \n",
    "best_weight, best_n = max(scores, key=scores.get)\n",
    "knn = KNeighborsRegressor(n_neighbors=best_n, weights=best_weight)\n",
    "knn.fit(X=x[\"train_val\"], y=y[\"train_val\"])\n",
    "knn.score(X=x[\"test\"], y=y[\"test\"])"
   ]
  },
  {
   "cell_type": "code",
   "execution_count": 19,
   "id": "94f163de",
   "metadata": {},
   "outputs": [
    {
     "data": {
      "text/plain": [
       "('distance', 11)"
      ]
     },
     "execution_count": 19,
     "metadata": {},
     "output_type": "execute_result"
    }
   ],
   "source": [
    "best_weight, best_n"
   ]
  },
  {
   "cell_type": "code",
   "execution_count": 19,
   "id": "fbd5b806",
   "metadata": {
    "scrolled": true
   },
   "outputs": [
    {
     "data": {
      "text/plain": [
       "[<matplotlib.lines.Line2D at 0x7fb71d025ac0>]"
      ]
     },
     "execution_count": 19,
     "metadata": {},
     "output_type": "execute_result"
    },
    {
     "data": {
      "image/png": "[encoded data removed]",
      "text/plain": [
       "<Figure size 432x288 with 1 Axes>"
      ]
     },
     "metadata": {
      "needs_background": "light"
     },
     "output_type": "display_data"
    }
   ],
   "source": [
    "plt.plot(range(1, 21), [scores[(\"uniform\", i)] for i in range(1, 21)])\n",
    "plt.plot(range(1, 21), [scores[(\"distance\", i)] for i in range(1, 21)], color=\"orange\")"
   ]
  },
  {
   "cell_type": "code",
   "execution_count": null,
   "id": "f0e494a2",
   "metadata": {},
   "outputs": [],
   "source": []
  }
 ],
 "metadata": {
  "kernelspec": {
   "display_name": "coursera",
   "language": "python",
   "name": "coursera"
  },
  "language_info": {
   "codemirror_mode": {
    "name": "ipython",
    "version": 3
   },
   "file_extension": ".py",
   "mimetype": "text/x-python",
   "name": "python",
   "nbconvert_exporter": "python",
   "pygments_lexer": "ipython3",
   "version": "3.9.6"
  }
 },
 "nbformat": 4,
 "nbformat_minor": 5
}
