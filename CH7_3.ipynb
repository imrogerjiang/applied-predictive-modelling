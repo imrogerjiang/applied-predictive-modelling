{
 "cells": [
  {
   "cell_type": "code",
   "execution_count": 2,
   "id": "b8ce9470",
   "metadata": {},
   "outputs": [],
   "source": [
    "import numpy as np\n",
    "import pandas as pd\n",
    "from sklearn.svm import SVR\n",
    "from sklearn.neighbors import KNeighborsRegressor\n",
    "from matplotlib import pyplot as plt\n",
    "from matplotlib import cm\n",
    "from pyearth import Earth"
   ]
  },
  {
   "cell_type": "markdown",
   "id": "ef9401d3",
   "metadata": {},
   "source": [
    "## 7.3\n",
    "\n",
    "For the Tecator data described in the last chapter, build SVM, neural network, MARS, and KNN models. Since neural networks are especially sensitive to highly correlated predictors, does pre-processing using PCA help the model?"
   ]
  },
  {
   "cell_type": "markdown",
   "id": "7f0be00c",
   "metadata": {},
   "source": [
    "Measuring\n",
    "RMSE\n",
    "\n",
    "Preprocessing\n",
    "-centering\n",
    "-scaling\n",
    "-pca\n",
    "\n",
    "Models\n",
    "-SVM\n",
    "-NN\n",
    "-MARS\n",
    "-KNN"
   ]
  },
  {
   "cell_type": "code",
   "execution_count": 3,
   "id": "24af4bf2",
   "metadata": {},
   "outputs": [],
   "source": [
    "from sklearn.model_selection import train_test_split\n",
    "\n",
    "def split_data(df, target, val_size=0.2, test_size=0.2, drop_columns=[]):\n",
    "    x={}\n",
    "    y={}\n",
    "    \n",
    "    train_val, test = train_test_split(df, test_size=test_size)\n",
    "    train, val = train_test_split(train_val, test_size=val_size/(1-test_size))\n",
    "    ds = {}\n",
    "    x[\"train\"] = train.drop(columns=[target]+drop_columns)\n",
    "    x[\"val\"] = val.drop(columns=[target]+drop_columns)\n",
    "    x[\"train_val\"] = train_val.drop(columns=[target]+drop_columns)\n",
    "    x[\"test\"] = test.drop(columns=[target]+drop_columns)\n",
    "    y[\"train\"] = train[target]\n",
    "    y[\"val\"] = val[target]\n",
    "    y[\"train_val\"] = train_val[target]\n",
    "    y[\"test\"] = test[target]\n",
    "    \n",
    "    return x,y"
   ]
  },
  {
   "cell_type": "code",
   "execution_count": 4,
   "id": "4148b356",
   "metadata": {},
   "outputs": [],
   "source": [
    "x = pd.read_csv(\"data/absorb.csv\", header=0, index_col=\"id\")\n",
    "y = (pd.read_csv(\"data/endpoints.csv\", header=0, index_col=\"id\")\n",
    "     .rename(columns={\"V2\":\"fat\"})\n",
    "     .drop(columns=[\"V1\",\"V3\"]))\n",
    "data = pd.concat([x,y], axis=\"columns\")\n",
    "x,y = split_data(data, \"fat\")"
   ]
  },
  {
   "cell_type": "code",
   "execution_count": 13,
   "id": "30434fe1",
   "metadata": {},
   "outputs": [
    {
     "ename": "SyntaxError",
     "evalue": "invalid syntax (1601249104.py, line 2)",
     "output_type": "error",
     "traceback": [
      "\u001b[0;36m  File \u001b[0;32m\"/tmp/ipykernel_13955/1601249104.py\"\u001b[0;36m, line \u001b[0;32m2\u001b[0m\n\u001b[0;31m    def fit_svr(x, y)\u001b[0m\n\u001b[0m                     ^\u001b[0m\n\u001b[0;31mSyntaxError\u001b[0m\u001b[0;31m:\u001b[0m invalid syntax\n"
     ]
    }
   ],
   "source": [
    "# SVR\n",
    "def fit_svr(x, y):\n",
    "    scores={}\n",
    "\n",
    "    for epsilon in np.geomspace(0.005, 40, num=40):\n",
    "        for cost in np.geomspace(1, 10000, num=40):\n",
    "            svr = SVR(kernel=\"rbf\", C=cost, epsilon=epsilon)\n",
    "            svr.fit(X=x[\"train\"], y=y[\"train\"])\n",
    "            scores[(epsilon, cost)] = svr.score(X=x['val'], y=y['val'])\n",
    "            print(epsilon, cost, scores[(epsilon, cost)])\n",
    "    best_epsilon, best_cost = max(scores, key=scores.get)\n",
    "\n",
    "    svr = SVR(kernel=\"rbf\", C=10000, epsilon=best_epsilon)\n",
    "    print(svr.score(X=x[\"test\"], y=y[\"test\"]))\n",
    "    return svr.fit(X=x[\"train_val\"], y=y[\"train_val\"])\n"
   ]
  },
  {
   "cell_type": "code",
   "execution_count": null,
   "id": "b4bf7e6f",
   "metadata": {},
   "outputs": [],
   "source": []
  }
 ],
 "metadata": {
  "kernelspec": {
   "display_name": "coursera",
   "language": "python",
   "name": "coursera"
  },
  "language_info": {
   "codemirror_mode": {
    "name": "ipython",
    "version": 3
   },
   "file_extension": ".py",
   "mimetype": "text/x-python",
   "name": "python",
   "nbconvert_exporter": "python",
   "pygments_lexer": "ipython3",
   "version": "3.9.6"
  }
 },
 "nbformat": 4,
 "nbformat_minor": 5
}
